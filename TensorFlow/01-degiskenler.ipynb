{
 "cells": [
  {
   "cell_type": "code",
   "execution_count": 15,
   "id": "9bfed71a-8b25-4355-bd89-e7034a7f80c2",
   "metadata": {},
   "outputs": [
    {
     "data": {
      "text/plain": [
       "25"
      ]
     },
     "execution_count": 15,
     "metadata": {},
     "output_type": "execute_result"
    }
   ],
   "source": [
    "5*5\n"
   ]
  },
  {
   "cell_type": "code",
   "execution_count": 16,
   "id": "48af135d-f506-46d3-a841-e74f4c5f12c9",
   "metadata": {},
   "outputs": [],
   "source": [
    "x = 5"
   ]
  },
  {
   "cell_type": "code",
   "execution_count": 17,
   "id": "19b4905f-3e98-4cc0-9877-d8c6c54d65ed",
   "metadata": {},
   "outputs": [],
   "source": [
    "y = 4"
   ]
  },
  {
   "cell_type": "code",
   "execution_count": 18,
   "id": "e7cbf7b4-920f-42f0-a3bc-b4638f1f159d",
   "metadata": {},
   "outputs": [
    {
     "data": {
      "text/plain": [
       "20"
      ]
     },
     "execution_count": 18,
     "metadata": {},
     "output_type": "execute_result"
    }
   ],
   "source": [
    "x * y"
   ]
  },
  {
   "cell_type": "markdown",
   "id": "2cbe026b-9eaa-4083-b481-3c4170face89",
   "metadata": {},
   "source": [
    "x = 6\n"
   ]
  },
  {
   "cell_type": "code",
   "execution_count": 20,
   "id": "68568df1-e710-4e9a-a52c-70c151bcf139",
   "metadata": {},
   "outputs": [
    {
     "data": {
      "text/plain": [
       "24"
      ]
     },
     "execution_count": 20,
     "metadata": {},
     "output_type": "execute_result"
    }
   ],
   "source": [
    "x * y"
   ]
  },
  {
   "cell_type": "code",
   "execution_count": 22,
   "id": "b6764b6b-1b77-490a-9e72-6623a2865fc7",
   "metadata": {},
   "outputs": [],
   "source": [
    "ilk = 10"
   ]
  },
  {
   "cell_type": "code",
   "execution_count": 25,
   "id": "0c76d22f-06d6-4eee-8bc9-8087c11cc748",
   "metadata": {},
   "outputs": [],
   "source": [
    "son = 20"
   ]
  },
  {
   "cell_type": "code",
   "execution_count": 26,
   "id": "9117ac30-bcc9-4d0d-8a2c-2f43e7ff0d3e",
   "metadata": {},
   "outputs": [
    {
     "data": {
      "text/plain": [
       "30"
      ]
     },
     "execution_count": 26,
     "metadata": {},
     "output_type": "execute_result"
    }
   ],
   "source": [
    "ilk + son"
   ]
  },
  {
   "cell_type": "code",
   "execution_count": null,
   "id": "18ece4ce-2e11-4283-a0a2-44f5aeaf2148",
   "metadata": {},
   "outputs": [],
   "source": []
  }
 ],
 "metadata": {
  "kernelspec": {
   "display_name": "Python 3 (ipykernel)",
   "language": "python",
   "name": "python3"
  },
  "language_info": {
   "codemirror_mode": {
    "name": "ipython",
    "version": 3
   },
   "file_extension": ".py",
   "mimetype": "text/x-python",
   "name": "python",
   "nbconvert_exporter": "python",
   "pygments_lexer": "ipython3",
   "version": "3.10.12"
  }
 },
 "nbformat": 4,
 "nbformat_minor": 5
}
