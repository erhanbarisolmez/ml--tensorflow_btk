{
 "cells": [
  {
   "cell_type": "code",
   "execution_count": 5,
   "id": "9bfed71a-8b25-4355-bd89-e7034a7f80c2",
   "metadata": {},
   "outputs": [
    {
     "data": {
      "text/plain": [
       "25"
      ]
     },
     "execution_count": 5,
     "metadata": {},
     "output_type": "execute_result"
    }
   ],
   "source": [
    "5*5\n"
   ]
  },
  {
   "cell_type": "code",
   "execution_count": 6,
   "id": "48af135d-f506-46d3-a841-e74f4c5f12c9",
   "metadata": {},
   "outputs": [],
   "source": [
    "x = 5"
   ]
  },
  {
   "cell_type": "code",
   "execution_count": 7,
   "id": "19b4905f-3e98-4cc0-9877-d8c6c54d65ed",
   "metadata": {},
   "outputs": [],
   "source": [
    "y = 4"
   ]
  },
  {
   "cell_type": "code",
   "execution_count": 8,
   "id": "e7cbf7b4-920f-42f0-a3bc-b4638f1f159d",
   "metadata": {},
   "outputs": [
    {
     "data": {
      "text/plain": [
       "20"
      ]
     },
     "execution_count": 8,
     "metadata": {},
     "output_type": "execute_result"
    }
   ],
   "source": [
    "x * y"
   ]
  },
  {
   "cell_type": "code",
   "execution_count": 9,
   "id": "10ece7e4-e975-4708-ba81-4fdb91a8314a",
   "metadata": {},
   "outputs": [],
   "source": [
    "x = 6\n"
   ]
  },
  {
   "cell_type": "code",
   "execution_count": 10,
   "id": "68568df1-e710-4e9a-a52c-70c151bcf139",
   "metadata": {},
   "outputs": [
    {
     "data": {
      "text/plain": [
       "24"
      ]
     },
     "execution_count": 10,
     "metadata": {},
     "output_type": "execute_result"
    }
   ],
   "source": [
    "x * y"
   ]
  },
  {
   "cell_type": "code",
   "execution_count": 11,
   "id": "b6764b6b-1b77-490a-9e72-6623a2865fc7",
   "metadata": {},
   "outputs": [],
   "source": [
    "ilk = 10"
   ]
  },
  {
   "cell_type": "code",
   "execution_count": 12,
   "id": "0c76d22f-06d6-4eee-8bc9-8087c11cc748",
   "metadata": {},
   "outputs": [],
   "source": [
    "son = 20"
   ]
  },
  {
   "cell_type": "code",
   "execution_count": 13,
   "id": "9117ac30-bcc9-4d0d-8a2c-2f43e7ff0d3e",
   "metadata": {},
   "outputs": [
    {
     "data": {
      "text/plain": [
       "30"
      ]
     },
     "execution_count": 13,
     "metadata": {},
     "output_type": "execute_result"
    }
   ],
   "source": [
    "ilk + son"
   ]
  },
  {
   "cell_type": "code",
   "execution_count": 14,
   "id": "18ece4ce-2e11-4283-a0a2-44f5aeaf2148",
   "metadata": {},
   "outputs": [
    {
     "data": {
      "text/plain": [
       "0.5"
      ]
     },
     "execution_count": 14,
     "metadata": {},
     "output_type": "execute_result"
    }
   ],
   "source": [
    "ilk / son"
   ]
  },
  {
   "cell_type": "code",
   "execution_count": 15,
   "id": "eb8edff6",
   "metadata": {},
   "outputs": [
    {
     "data": {
      "text/plain": [
       "2.0"
      ]
     },
     "execution_count": 15,
     "metadata": {},
     "output_type": "execute_result"
    }
   ],
   "source": [
    "son / ilk"
   ]
  },
  {
   "cell_type": "code",
   "execution_count": 16,
   "id": "277ff4f3",
   "metadata": {},
   "outputs": [],
   "source": [
    "bol = son/ilk"
   ]
  },
  {
   "cell_type": "code",
   "execution_count": 17,
   "id": "9305c38d",
   "metadata": {},
   "outputs": [
    {
     "data": {
      "text/plain": [
       "2.0"
      ]
     },
     "execution_count": 17,
     "metadata": {},
     "output_type": "execute_result"
    }
   ],
   "source": [
    "bol"
   ]
  },
  {
   "cell_type": "markdown",
   "id": "d3ff3920",
   "metadata": {},
   "source": [
    "x"
   ]
  },
  {
   "cell_type": "code",
   "execution_count": 18,
   "id": "d64496bd",
   "metadata": {},
   "outputs": [
    {
     "data": {
      "text/plain": [
       "6"
      ]
     },
     "execution_count": 18,
     "metadata": {},
     "output_type": "execute_result"
    }
   ],
   "source": [
    "x"
   ]
  },
  {
   "cell_type": "markdown",
   "id": "1219ab32",
   "metadata": {},
   "source": [
    "karesini alma\n",
    "  \n",
    "  "
   ]
  },
  {
   "cell_type": "code",
   "execution_count": 19,
   "id": "78fbabde",
   "metadata": {},
   "outputs": [
    {
     "data": {
      "text/plain": [
       "36"
      ]
     },
     "execution_count": 19,
     "metadata": {},
     "output_type": "execute_result"
    }
   ],
   "source": [
    "\n",
    "x ** 2"
   ]
  },
  {
   "cell_type": "code",
   "execution_count": 20,
   "id": "eae968e9",
   "metadata": {},
   "outputs": [
    {
     "data": {
      "text/plain": [
       "0"
      ]
     },
     "execution_count": 20,
     "metadata": {},
     "output_type": "execute_result"
    }
   ],
   "source": [
    "# Remainder - Kalanını bulma\n",
    "10 % 2"
   ]
  },
  {
   "cell_type": "code",
   "execution_count": 21,
   "id": "8394b317",
   "metadata": {},
   "outputs": [],
   "source": [
    "kullaniciYasi=input(\"Yaşınız\")"
   ]
  },
  {
   "cell_type": "markdown",
   "id": "f2cd17c5",
   "metadata": {},
   "source": []
  },
  {
   "cell_type": "code",
   "execution_count": 22,
   "id": "f013c334",
   "metadata": {},
   "outputs": [
    {
     "data": {
      "text/plain": [
       "'2'"
      ]
     },
     "execution_count": 22,
     "metadata": {},
     "output_type": "execute_result"
    }
   ],
   "source": [
    "kullaniciYasi"
   ]
  },
  {
   "cell_type": "code",
   "execution_count": 23,
   "id": "e7a3ea0e",
   "metadata": {},
   "outputs": [
    {
     "data": {
      "text/plain": [
       "'22222222222222222222222222222222222222222222222222'"
      ]
     },
     "execution_count": 23,
     "metadata": {},
     "output_type": "execute_result"
    }
   ],
   "source": [
    "kullaniciYasi * 50"
   ]
  },
  {
   "cell_type": "code",
   "execution_count": 24,
   "id": "eb55f509",
   "metadata": {},
   "outputs": [],
   "source": [
    "kullaniciYasi = \"otuz\""
   ]
  },
  {
   "cell_type": "code",
   "execution_count": 25,
   "id": "ba8b7eb7",
   "metadata": {},
   "outputs": [
    {
     "data": {
      "text/plain": [
       "'otuz'"
      ]
     },
     "execution_count": 25,
     "metadata": {},
     "output_type": "execute_result"
    }
   ],
   "source": [
    "kullaniciYasi"
   ]
  },
  {
   "cell_type": "code",
   "execution_count": 26,
   "id": "d4bcb143",
   "metadata": {},
   "outputs": [
    {
     "data": {
      "text/plain": [
       "<function str.count>"
      ]
     },
     "execution_count": 26,
     "metadata": {},
     "output_type": "execute_result"
    }
   ],
   "source": [
    "kullaniciYasi.count"
   ]
  },
  {
   "cell_type": "code",
   "execution_count": 27,
   "id": "524bc293",
   "metadata": {},
   "outputs": [
    {
     "data": {
      "text/plain": [
       "4"
      ]
     },
     "execution_count": 27,
     "metadata": {},
     "output_type": "execute_result"
    }
   ],
   "source": [
    "len(kullaniciYasi)"
   ]
  },
  {
   "cell_type": "code",
   "execution_count": 28,
   "id": "a039a2cc",
   "metadata": {},
   "outputs": [],
   "source": [
    "sayi = \"123456\""
   ]
  },
  {
   "cell_type": "code",
   "execution_count": 29,
   "id": "b0671b9e",
   "metadata": {},
   "outputs": [
    {
     "data": {
      "text/plain": [
       "'3456'"
      ]
     },
     "execution_count": 29,
     "metadata": {},
     "output_type": "execute_result"
    }
   ],
   "source": [
    "sayi[2:]"
   ]
  },
  {
   "cell_type": "code",
   "execution_count": 30,
   "id": "fd667734",
   "metadata": {},
   "outputs": [],
   "source": [
    "test = \"abcdef\""
   ]
  },
  {
   "cell_type": "code",
   "execution_count": 31,
   "id": "6c8ca508",
   "metadata": {},
   "outputs": [
    {
     "data": {
      "text/plain": [
       "'abcdef'"
      ]
     },
     "execution_count": 31,
     "metadata": {},
     "output_type": "execute_result"
    }
   ],
   "source": [
    "test"
   ]
  },
  {
   "cell_type": "code",
   "execution_count": 32,
   "id": "a3c140ed",
   "metadata": {},
   "outputs": [
    {
     "data": {
      "text/plain": [
       "'abc'"
      ]
     },
     "execution_count": 32,
     "metadata": {},
     "output_type": "execute_result"
    }
   ],
   "source": [
    "test[:3]"
   ]
  },
  {
   "cell_type": "code",
   "execution_count": 33,
   "id": "63b45fa2",
   "metadata": {},
   "outputs": [
    {
     "data": {
      "text/plain": [
       "'def'"
      ]
     },
     "execution_count": 33,
     "metadata": {},
     "output_type": "execute_result"
    }
   ],
   "source": [
    "test[3:]"
   ]
  },
  {
   "cell_type": "code",
   "execution_count": 34,
   "id": "d19ab5db",
   "metadata": {},
   "outputs": [],
   "source": [
    "#  Slicing"
   ]
  },
  {
   "cell_type": "code",
   "execution_count": 35,
   "id": "bcf348c1",
   "metadata": {},
   "outputs": [],
   "source": [
    "benimListem = [10,20,30,40,50]"
   ]
  },
  {
   "cell_type": "code",
   "execution_count": 36,
   "id": "243ac572",
   "metadata": {},
   "outputs": [
    {
     "name": "stdout",
     "output_type": "stream",
     "text": [
      "evet\n"
     ]
    }
   ],
   "source": [
    "if 10 in benimListem:\n",
    "  print(\"evet\")"
   ]
  },
  {
   "cell_type": "code",
   "execution_count": 37,
   "id": "74c4d6e7",
   "metadata": {},
   "outputs": [
    {
     "data": {
      "text/plain": [
       "16.666666666666668"
      ]
     },
     "execution_count": 37,
     "metadata": {},
     "output_type": "execute_result"
    }
   ],
   "source": [
    "benimListem[0] * 5 /3"
   ]
  },
  {
   "cell_type": "code",
   "execution_count": 38,
   "id": "e2375d63",
   "metadata": {},
   "outputs": [
    {
     "name": "stdout",
     "output_type": "stream",
     "text": [
      "3.3333333333333335\n",
      "6.666666666666667\n",
      "10.0\n",
      "13.333333333333334\n",
      "16.666666666666668\n"
     ]
    }
   ],
   "source": [
    "\n",
    "for numara in benimListem:\n",
    "  print(numara / 3)"
   ]
  },
  {
   "cell_type": "code",
   "execution_count": 39,
   "id": "3e6ed3c3",
   "metadata": {},
   "outputs": [
    {
     "name": "stdout",
     "output_type": "stream",
     "text": [
      "9.8\n",
      "19.8\n",
      "29.8\n",
      "39.8\n",
      "49.8\n"
     ]
    }
   ],
   "source": [
    "for num in benimListem:\n",
    "  yeniNum = num - 2 /10\n",
    "  print(yeniNum)"
   ]
  },
  {
   "cell_type": "code",
   "execution_count": 40,
   "id": "6cedf640",
   "metadata": {},
   "outputs": [
    {
     "name": "stdout",
     "output_type": "stream",
     "text": [
      "2\n",
      "4\n",
      "6\n"
     ]
    }
   ],
   "source": [
    "liste = [1,2,3,4,5,6]\n",
    "for rakam in liste:\n",
    "  if rakam % 2 ==0:\n",
    "    print(rakam)"
   ]
  },
  {
   "cell_type": "code",
   "execution_count": 41,
   "id": "a779943a",
   "metadata": {},
   "outputs": [],
   "source": [
    "yeniString = \"asd\""
   ]
  },
  {
   "cell_type": "code",
   "execution_count": 42,
   "id": "9cf61228",
   "metadata": {},
   "outputs": [
    {
     "name": "stdout",
     "output_type": "stream",
     "text": [
      "a\n",
      "s\n",
      "d\n"
     ]
    }
   ],
   "source": [
    "for harf in yeniString:\n",
    "  print(harf)"
   ]
  },
  {
   "cell_type": "code",
   "execution_count": 43,
   "id": "b3d739bc",
   "metadata": {},
   "outputs": [
    {
     "name": "stdout",
     "output_type": "stream",
     "text": [
      "2\n",
      "-8\n",
      "-7\n",
      "-6\n",
      "-5\n",
      "-4\n"
     ]
    }
   ],
   "source": [
    "myTuple= (12,2,3,4,5,6)\n",
    "\n",
    "for eleman in myTuple:\n",
    "  print(eleman -10)"
   ]
  },
  {
   "cell_type": "code",
   "execution_count": 44,
   "id": "c60868c6",
   "metadata": {},
   "outputs": [
    {
     "name": "stdout",
     "output_type": "stream",
     "text": [
      "(10.2, 15.2)\n",
      "(30.2, 102.3)\n",
      "(94, 186)\n"
     ]
    }
   ],
   "source": [
    "koordinatList = [(10.2,15.2), (30.2,102.3), (94,186)]\n",
    "type(koordinatList[0])\n",
    "for eleman in koordinatList:\n",
    "  print(eleman)"
   ]
  },
  {
   "cell_type": "code",
   "execution_count": 45,
   "id": "f084dda2",
   "metadata": {},
   "outputs": [
    {
     "name": "stdout",
     "output_type": "stream",
     "text": [
      "15.2\n",
      "102.3\n",
      "186\n"
     ]
    }
   ],
   "source": [
    "for (x,y) in koordinatList:\n",
    "  print(y)"
   ]
  },
  {
   "cell_type": "code",
   "execution_count": 46,
   "id": "868ac6a0",
   "metadata": {},
   "outputs": [
    {
     "name": "stdout",
     "output_type": "stream",
     "text": [
      "10.2\n",
      "30.2\n",
      "94\n"
     ]
    }
   ],
   "source": [
    "for (x,y) in koordinatList:\n",
    "  print(x)"
   ]
  },
  {
   "cell_type": "code",
   "execution_count": 47,
   "id": "ae86e704",
   "metadata": {},
   "outputs": [],
   "source": [
    "sozluk = {\"muz\": 150, \"portakal\" : 200, \"elma\":400}\n"
   ]
  },
  {
   "cell_type": "code",
   "execution_count": 48,
   "id": "60392018",
   "metadata": {},
   "outputs": [
    {
     "name": "stdout",
     "output_type": "stream",
     "text": [
      "150\n",
      "200\n",
      "400\n"
     ]
    }
   ],
   "source": [
    "for (anahtar, deger) in sozluk.items():\n",
    "  print(deger)"
   ]
  },
  {
   "cell_type": "code",
   "execution_count": 49,
   "metadata": {},
   "outputs": [
    {
     "data": {
      "text/plain": [
       "(12, 2, 3, 4, 5, 6)"
      ]
     },
     "execution_count": 49,
     "metadata": {},
     "output_type": "execute_result"
    }
   ],
   "source": [
    "myTuple"
   ]
  },
  {
   "cell_type": "code",
   "execution_count": 50,
   "id": "d6c65841",
   "metadata": {},
   "outputs": [
    {
     "name": "stdout",
     "output_type": "stream",
     "text": [
      "12\n",
      "2\n",
      "3\n",
      "4\n"
     ]
    }
   ],
   "source": [
    "for numara in myTuple:\n",
    "  if numara==5:\n",
    "    break\n",
    "  print(numara)"
   ]
  },
  {
   "cell_type": "code",
   "execution_count": 51,
   "id": "22d7c673",
   "metadata": {},
   "outputs": [],
   "source": [
    "for numara in myTuple:\n",
    "  if numara == 12:\n",
    "    continue"
   ]
  },
  {
   "cell_type": "code",
   "execution_count": 52,
   "id": "7f129b8f",
   "metadata": {},
   "outputs": [
    {
     "name": "stdout",
     "output_type": "stream",
     "text": [
      "6\n"
     ]
    }
   ],
   "source": [
    "print(numara)"
   ]
  },
  {
   "cell_type": "code",
   "execution_count": 53,
   "id": "773dbc06",
   "metadata": {},
   "outputs": [
    {
     "name": "stdout",
     "output_type": "stream",
     "text": [
      "0\n",
      "1\n",
      "2\n",
      "3\n",
      "4\n",
      "5\n",
      "6\n",
      "7\n",
      "8\n",
      "9\n"
     ]
    }
   ],
   "source": [
    "x = 0\n",
    "while x<10:\n",
    "  print(x)\n",
    "  x = x+1"
   ]
  },
  {
   "cell_type": "code",
   "execution_count": 54,
   "id": "375424ba",
   "metadata": {},
   "outputs": [
    {
     "data": {
      "text/plain": [
       "[10, 20, 30, 40, 50]"
      ]
     },
     "execution_count": 54,
     "metadata": {},
     "output_type": "execute_result"
    }
   ],
   "source": [
    "benimListem"
   ]
  },
  {
   "cell_type": "code",
   "execution_count": 55,
   "id": "5be8ccef",
   "metadata": {},
   "outputs": [
    {
     "data": {
      "text/plain": [
       "50"
      ]
     },
     "execution_count": 55,
     "metadata": {},
     "output_type": "execute_result"
    }
   ],
   "source": [
    "benimListem.pop()"
   ]
  },
  {
   "cell_type": "code",
   "execution_count": 56,
   "id": "a85fe03d",
   "metadata": {},
   "outputs": [
    {
     "data": {
      "text/plain": [
       "[10, 20, 30, 40]"
      ]
     },
     "execution_count": 56,
     "metadata": {},
     "output_type": "execute_result"
    }
   ],
   "source": [
    "benimListem"
   ]
  },
  {
   "cell_type": "code",
   "execution_count": 57,
   "id": "ff1e2346",
   "metadata": {},
   "outputs": [],
   "source": [
    "benimListem.append(509)"
   ]
  },
  {
   "cell_type": "code",
   "execution_count": 58,
   "id": "04b0c460",
   "metadata": {},
   "outputs": [
    {
     "data": {
      "text/plain": [
       "[10, 20, 30, 40, 509]"
      ]
     },
     "execution_count": 58,
     "metadata": {},
     "output_type": "execute_result"
    }
   ],
   "source": [
    "benimListem"
   ]
  },
  {
   "cell_type": "code",
   "execution_count": 59,
   "id": "f9df88a3",
   "metadata": {},
   "outputs": [
    {
     "name": "stdout",
     "output_type": "stream",
     "text": [
      "30 listede\n",
      "30 listede\n",
      "30 listede\n"
     ]
    }
   ],
   "source": [
    "while 30 in benimListem:\n",
    "  print(\"30 listede\")\n",
    "  benimListem.pop()"
   ]
  },
  {
   "cell_type": "code",
   "execution_count": 60,
   "id": "fcd2bcb6",
   "metadata": {},
   "outputs": [
    {
     "data": {
      "text/plain": [
       "[10, 20]"
      ]
     },
     "execution_count": 60,
     "metadata": {},
     "output_type": "execute_result"
    }
   ],
   "source": [
    "benimListem"
   ]
  },
  {
   "cell_type": "code",
   "execution_count": 61,
   "id": "7bd3fb6f",
   "metadata": {},
   "outputs": [
    {
     "data": {
      "text/plain": [
       "list"
      ]
     },
     "execution_count": 61,
     "metadata": {},
     "output_type": "execute_result"
    }
   ],
   "source": [
    "list"
   ]
  },
  {
   "cell_type": "code",
   "execution_count": 62,
   "id": "bded31b1",
   "metadata": {},
   "outputs": [
    {
     "data": {
      "text/plain": [
       "[5, 9, 13, 17]"
      ]
     },
     "execution_count": 62,
     "metadata": {},
     "output_type": "execute_result"
    }
   ],
   "source": [
    "list(range(5,21,4))"
   ]
  },
  {
   "cell_type": "code",
   "execution_count": 63,
   "id": "4d22e429",
   "metadata": {},
   "outputs": [
    {
     "name": "stdout",
     "output_type": "stream",
     "text": [
      "güncel numara: 5 güncel index: 0\n",
      "güncel numara: 6 güncel index: 1\n",
      "güncel numara: 7 güncel index: 2\n",
      "güncel numara: 8 güncel index: 3\n",
      "güncel numara: 9 güncel index: 4\n",
      "güncel numara: 10 güncel index: 5\n",
      "güncel numara: 11 güncel index: 6\n",
      "güncel numara: 12 güncel index: 7\n",
      "güncel numara: 13 güncel index: 8\n",
      "güncel numara: 14 güncel index: 9\n",
      "14\n"
     ]
    }
   ],
   "source": [
    "index = 0\n",
    "for numara in list(range(5,15)):\n",
    "  print(f\"güncel numara: {numara} güncel index: {index}\")\n",
    "  index +=1\n",
    "print(numara)"
   ]
  },
  {
   "cell_type": "code",
   "execution_count": 64,
   "id": "5353e007",
   "metadata": {},
   "outputs": [
    {
     "name": "stdout",
     "output_type": "stream",
     "text": [
      "5\n",
      "6\n",
      "7\n",
      "8\n",
      "9\n",
      "10\n",
      "11\n",
      "12\n",
      "13\n",
      "14\n"
     ]
    }
   ],
   "source": [
    "for (index, numara) in enumerate(list(range(5,15))):\n",
    "  print(numara)"
   ]
  },
  {
   "cell_type": "code",
   "execution_count": 65,
   "id": "b8b503e1",
   "metadata": {},
   "outputs": [
    {
     "data": {
      "text/plain": [
       "98"
      ]
     },
     "execution_count": 65,
     "metadata": {},
     "output_type": "execute_result"
    }
   ],
   "source": [
    "from random import randint\n",
    "randint(10,100)\n"
   ]
  },
  {
   "cell_type": "code",
   "execution_count": 66,
   "id": "d294a6bd",
   "metadata": {},
   "outputs": [
    {
     "data": {
      "text/plain": [
       "6"
      ]
     },
     "execution_count": 66,
     "metadata": {},
     "output_type": "execute_result"
    }
   ],
   "source": [
    "newList = list(range(0,10))\n",
    "newList[randint(0,9)]"
   ]
  },
  {
   "cell_type": "code",
   "execution_count": 67,
   "id": "92a835d5",
   "metadata": {},
   "outputs": [
    {
     "data": {
      "text/plain": [
       "[0, 1, 2, 3, 4, 5, 6, 7, 8, 9]"
      ]
     },
     "execution_count": 67,
     "metadata": {},
     "output_type": "execute_result"
    }
   ],
   "source": [
    "newList"
   ]
  },
  {
   "cell_type": "code",
   "execution_count": 68,
   "id": "9af6dfae",
   "metadata": {},
   "outputs": [
    {
     "data": {
      "text/plain": [
       "[2, 7, 0, 4, 5, 9, 1, 3, 6, 8]"
      ]
     },
     "execution_count": 68,
     "metadata": {},
     "output_type": "execute_result"
    }
   ],
   "source": [
    "from random import shuffle\n",
    "shuffle(newList)\n",
    "newList"
   ]
  },
  {
   "cell_type": "code",
   "execution_count": 69,
   "id": "b182f2db",
   "metadata": {},
   "outputs": [],
   "source": [
    "yemekListesi = [\"muz\", \"ananaas\", \"elma\"]\n",
    "kaloriListesi = [100,200,300]\n",
    "gunListe = [\"pazartesi\", \"salı\",\"çarşamba\"]\n",
    "zipList=list(zip(yemekListesi, gunListe,kaloriListesi)) #listeleri birleştirmek için kull"
   ]
  },
  {
   "cell_type": "code",
   "execution_count": 70,
   "id": "7f2fd7a2",
   "metadata": {},
   "outputs": [
    {
     "data": {
      "text/plain": [
       "[('muz', 'pazartesi', 100),\n",
       " ('ananaas', 'salı', 200),\n",
       " ('elma', 'çarşamba', 300)]"
      ]
     },
     "execution_count": 70,
     "metadata": {},
     "output_type": "execute_result"
    }
   ],
   "source": [
    "zipList"
   ]
  },
  {
   "cell_type": "code",
   "execution_count": 71,
   "id": "506fadc4",
   "metadata": {},
   "outputs": [
    {
     "name": "stdout",
     "output_type": "stream",
     "text": [
      "<class 'tuple'>\n",
      "<class 'tuple'>\n",
      "<class 'tuple'>\n"
     ]
    }
   ],
   "source": [
    "for eleman in zipList:\n",
    "  print(type(eleman))"
   ]
  },
  {
   "cell_type": "code",
   "execution_count": 72,
   "id": "7a7691f2",
   "metadata": {},
   "outputs": [
    {
     "data": {
      "text/plain": [
       "[('muz', 'pazartesi', 100),\n",
       " ('ananaas', 'salı', 200),\n",
       " ('elma', 'çarşamba', 300)]"
      ]
     },
     "execution_count": 72,
     "metadata": {},
     "output_type": "execute_result"
    }
   ],
   "source": [
    "zipList"
   ]
  },
  {
   "cell_type": "code",
   "execution_count": 73,
   "id": "43e10fe2",
   "metadata": {},
   "outputs": [
    {
     "name": "stdout",
     "output_type": "stream",
     "text": [
      "<class 'tuple'>\n",
      "<class 'tuple'>\n",
      "<class 'tuple'>\n"
     ]
    }
   ],
   "source": [
    "for eleman in zipList:\n",
    "  print(type(eleman))"
   ]
  },
  {
   "cell_type": "code",
   "execution_count": 74,
   "id": "f8633e39",
   "metadata": {},
   "outputs": [
    {
     "data": {
      "text/plain": [
       "[('muz', 'pazartesi', 100),\n",
       " ('ananaas', 'salı', 200),\n",
       " ('elma', 'çarşamba', 300)]"
      ]
     },
     "execution_count": 74,
     "metadata": {},
     "output_type": "execute_result"
    }
   ],
   "source": [
    "zipList"
   ]
  },
  {
   "cell_type": "code",
   "execution_count": 75,
   "id": "b3d55a45",
   "metadata": {},
   "outputs": [],
   "source": [
    "listeOrnegi = []"
   ]
  },
  {
   "cell_type": "code",
   "execution_count": 76,
   "id": "243f2890",
   "metadata": {},
   "outputs": [],
   "source": [
    "string = \"baris\""
   ]
  },
  {
   "cell_type": "code",
   "execution_count": 77,
   "id": "a0a08f29",
   "metadata": {},
   "outputs": [],
   "source": [
    "for harf in string:\n",
    "  listeOrnegi.append(harf)"
   ]
  },
  {
   "cell_type": "code",
   "execution_count": 78,
   "id": "63dc0fdd",
   "metadata": {},
   "outputs": [
    {
     "data": {
      "text/plain": [
       "['b', 'a', 'r', 'i', 's']"
      ]
     },
     "execution_count": 78,
     "metadata": {},
     "output_type": "execute_result"
    }
   ],
   "source": [
    "listeOrnegi"
   ]
  },
  {
   "cell_type": "code",
   "execution_count": 79,
   "id": "da6a0bda",
   "metadata": {},
   "outputs": [],
   "source": [
    "yeniDeger = \"atıl\"\n",
    "yeniListe = [eleman for eleman in yeniDeger]"
   ]
  },
  {
   "cell_type": "code",
   "execution_count": 80,
   "id": "e7dd5cbc",
   "metadata": {},
   "outputs": [
    {
     "data": {
      "text/plain": [
       "['a', 't', 'ı', 'l']"
      ]
     },
     "execution_count": 80,
     "metadata": {},
     "output_type": "execute_result"
    }
   ],
   "source": [
    "yeniListe"
   ]
  },
  {
   "cell_type": "code",
   "execution_count": 81,
   "id": "87392fa8",
   "metadata": {},
   "outputs": [
    {
     "data": {
      "text/plain": [
       "'ISIMSIZ'"
      ]
     },
     "execution_count": 81,
     "metadata": {},
     "output_type": "execute_result"
    }
   ],
   "source": [
    "isim = \"isimsiz\"\n",
    "isim.upper()"
   ]
  },
  {
   "cell_type": "code",
   "execution_count": 82,
   "id": "725c3c53",
   "metadata": {},
   "outputs": [],
   "source": [
    "def fonksiyon():\n",
    "  print(\"fonksiyon\")"
   ]
  },
  {
   "cell_type": "code",
   "execution_count": 83,
   "id": "5bdc360d",
   "metadata": {},
   "outputs": [
    {
     "name": "stdout",
     "output_type": "stream",
     "text": [
      "fonksiyon\n"
     ]
    }
   ],
   "source": [
    "fonksiyon()"
   ]
  },
  {
   "cell_type": "code",
   "execution_count": 84,
   "id": "2432da9d",
   "metadata": {},
   "outputs": [
    {
     "name": "stdout",
     "output_type": "stream",
     "text": [
      "merhaba\n",
      "asd\n"
     ]
    }
   ],
   "source": [
    "def merhabaDunya(yazdir):\n",
    "  print(\"merhaba\")\n",
    "  print(yazdir)\n",
    "\n",
    "merhabaDunya(\"asd\")"
   ]
  },
  {
   "cell_type": "code",
   "execution_count": 85,
   "id": "b8fee210",
   "metadata": {},
   "outputs": [],
   "source": [
    "def merhaba( isim = \"barış\"):\n",
    "  print(\"merhaba\")\n",
    "  print(isim)"
   ]
  },
  {
   "cell_type": "code",
   "execution_count": 86,
   "id": "2460a396",
   "metadata": {},
   "outputs": [
    {
     "name": "stdout",
     "output_type": "stream",
     "text": [
      "merhaba\n",
      "barış\n"
     ]
    }
   ],
   "source": [
    "merhaba()"
   ]
  },
  {
   "cell_type": "code",
   "execution_count": 87,
   "id": "8d840633",
   "metadata": {},
   "outputs": [
    {
     "name": "stdout",
     "output_type": "stream",
     "text": [
      "merhaba\n",
      "asd\n"
     ]
    }
   ],
   "source": [
    "merhaba(\"asd\")"
   ]
  },
  {
   "cell_type": "code",
   "execution_count": 88,
   "id": "9ed3931d",
   "metadata": {},
   "outputs": [
    {
     "name": "stdout",
     "output_type": "stream",
     "text": [
      "30\n"
     ]
    }
   ],
   "source": [
    "def toplama(s1,s2):\n",
    "  sonuc = s1+s2\n",
    "  print(sonuc)\n",
    "\n",
    "toplama(10,20)"
   ]
  },
  {
   "cell_type": "code",
   "execution_count": 89,
   "id": "d5ce4bd3",
   "metadata": {},
   "outputs": [
    {
     "name": "stdout",
     "output_type": "stream",
     "text": [
      "60\n"
     ]
    }
   ],
   "source": [
    "def superT(num1, num2,num3):\n",
    "  print(num1+num2+num3)\n",
    "\n",
    "superT(10,20,30)"
   ]
  },
  {
   "cell_type": "code",
   "execution_count": null,
   "id": "60f94f10",
   "metadata": {},
   "outputs": [],
   "source": []
  },
  {
   "cell_type": "code",
   "execution_count": 90,
   "id": "780471dd",
   "metadata": {},
   "outputs": [
    {
     "name": "stdout",
     "output_type": "stream",
     "text": [
      "30\n"
     ]
    }
   ],
   "source": [
    "degisken = toplama(10,20)\n"
   ]
  },
  {
   "cell_type": "code",
   "execution_count": 91,
   "id": "233e19f0",
   "metadata": {},
   "outputs": [
    {
     "data": {
      "text/plain": [
       "NoneType"
      ]
     },
     "execution_count": 91,
     "metadata": {},
     "output_type": "execute_result"
    }
   ],
   "source": [
    "type(degisken)"
   ]
  },
  {
   "cell_type": "code",
   "execution_count": 92,
   "id": "2fa603d5",
   "metadata": {},
   "outputs": [],
   "source": [
    "def dondurTopla(num1, num2):\n",
    "  return num1+num2"
   ]
  },
  {
   "cell_type": "code",
   "execution_count": 93,
   "id": "2098ccc7",
   "metadata": {},
   "outputs": [],
   "source": [
    "yeni = dondurTopla(10,10)"
   ]
  },
  {
   "cell_type": "code",
   "execution_count": 94,
   "id": "8fad5cce",
   "metadata": {},
   "outputs": [
    {
     "data": {
      "text/plain": [
       "20"
      ]
     },
     "execution_count": 94,
     "metadata": {},
     "output_type": "execute_result"
    }
   ],
   "source": [
    "yeni"
   ]
  },
  {
   "cell_type": "code",
   "execution_count": 95,
   "id": "749dd3ca",
   "metadata": {},
   "outputs": [
    {
     "data": {
      "text/plain": [
       "int"
      ]
     },
     "execution_count": 95,
     "metadata": {},
     "output_type": "execute_result"
    }
   ],
   "source": [
    "type(yeni)"
   ]
  },
  {
   "cell_type": "code",
   "execution_count": 96,
   "id": "a87b9360",
   "metadata": {},
   "outputs": [],
   "source": [
    "def kontrolFonksiyon(s):\n",
    "  if s == \"barış\":\n",
    "    print(\"doğru\")\n",
    "  else:\n",
    "    print(\"hata\")"
   ]
  },
  {
   "cell_type": "code",
   "execution_count": 97,
   "id": "6e504053",
   "metadata": {},
   "outputs": [
    {
     "name": "stdout",
     "output_type": "stream",
     "text": [
      "hata\n"
     ]
    }
   ],
   "source": [
    "kontrolFonksiyon(\"\")"
   ]
  },
  {
   "cell_type": "code",
   "execution_count": 98,
   "id": "212e7d29",
   "metadata": {},
   "outputs": [
    {
     "data": {
      "text/plain": [
       "15"
      ]
     },
     "execution_count": 98,
     "metadata": {},
     "output_type": "execute_result"
    }
   ],
   "source": [
    "def yeniToplam(*args):\n",
    "  return sum(args)\n",
    "yeniToplam(1,2,3,4,5)"
   ]
  },
  {
   "cell_type": "code",
   "execution_count": 99,
   "id": "4a20e525",
   "metadata": {},
   "outputs": [],
   "source": [
    "def ornekFonksiyon(**kwargs):\n",
    "  print(kwargs)"
   ]
  },
  {
   "cell_type": "code",
   "execution_count": 100,
   "id": "eea7e0f5",
   "metadata": {},
   "outputs": [
    {
     "name": "stdout",
     "output_type": "stream",
     "text": [
      "{'muz': 100, 'elma': 200, 'ananas': 300}\n"
     ]
    }
   ],
   "source": [
    "type=ornekFonksiyon(muz = 100, elma= 200, ananas = 300)"
   ]
  },
  {
   "cell_type": "code",
   "execution_count": 101,
   "id": "5dcac9da",
   "metadata": {},
   "outputs": [],
   "source": [
    "def testKwargs(**kwargs):\n",
    " return(kwargs)\n"
   ]
  },
  {
   "cell_type": "code",
   "execution_count": 102,
   "id": "e78a597c",
   "metadata": {},
   "outputs": [
    {
     "data": {
      "text/plain": [
       "{'muz': 100, 'elma': 200, 'ananas': 300}"
      ]
     },
     "execution_count": 102,
     "metadata": {},
     "output_type": "execute_result"
    }
   ],
   "source": [
    "testKwargs(muz=100, elma=200,ananas=300)"
   ]
  },
  {
   "cell_type": "code",
   "execution_count": 103,
   "id": "c2a08720",
   "metadata": {},
   "outputs": [
    {
     "name": "stdout",
     "output_type": "stream",
     "text": [
      "6\n"
     ]
    }
   ],
   "source": [
    "def my_sum(my_integers):\n",
    "  result=0\n",
    "  for x in my_integers:\n",
    "    result +=x\n",
    "  return result\n",
    "\n",
    "list_of_integers = [1,2,3]\n",
    "print(my_sum(list_of_integers))"
   ]
  },
  {
   "cell_type": "code",
   "execution_count": 104,
   "id": "d35eb94f",
   "metadata": {},
   "outputs": [
    {
     "data": {
      "text/plain": [
       "15"
      ]
     },
     "execution_count": 104,
     "metadata": {},
     "output_type": "execute_result"
    }
   ],
   "source": [
    "def new_my_sum(*args):\n",
    "  result = 0\n",
    "  for x in args:\n",
    "    result += x\n",
    "  return result\n",
    "\n",
    "new_my_sum(1,2,3,4,5)"
   ]
  },
  {
   "cell_type": "code",
   "execution_count": 105,
   "id": "cba9ab12",
   "metadata": {},
   "outputs": [],
   "source": [
    "def kwargsTest(**kwargs):\n",
    "  return(kwargs)"
   ]
  },
  {
   "cell_type": "code",
   "execution_count": 106,
   "id": "266d114c",
   "metadata": {},
   "outputs": [
    {
     "data": {
      "text/plain": [
       "10.0"
      ]
     },
     "execution_count": 106,
     "metadata": {},
     "output_type": "execute_result"
    }
   ],
   "source": [
    "def bolmeIslemi(numara):\n",
    "  return numara / 2\n",
    "\n",
    "bolmeIslemi(20)"
   ]
  },
  {
   "cell_type": "code",
   "execution_count": 107,
   "id": "6106e0c4",
   "metadata": {},
   "outputs": [
    {
     "data": {
      "text/plain": [
       "[10, 20]"
      ]
     },
     "execution_count": 107,
     "metadata": {},
     "output_type": "execute_result"
    }
   ],
   "source": [
    "benimListem"
   ]
  },
  {
   "cell_type": "code",
   "execution_count": 108,
   "id": "f9338cd6",
   "metadata": {},
   "outputs": [
    {
     "data": {
      "text/plain": [
       "[0.5, 1.0, 1.5, 2.0, 2.5, 3.0, 3.5, 4.0, 4.5, 5.0]"
      ]
     },
     "execution_count": 108,
     "metadata": {},
     "output_type": "execute_result"
    }
   ],
   "source": [
    "benimListem = [1,2,3,4,5,6,7,8,9,10]\n",
    "yeniListe = []\n",
    "for eleman in benimListem:\n",
    "  bolmeIslemi(eleman)\n",
    "  yeniListe.append(bolmeIslemi(eleman))\n",
    "yeniListe"
   ]
  },
  {
   "cell_type": "code",
   "execution_count": 109,
   "id": "7c6c2ae2",
   "metadata": {},
   "outputs": [
    {
     "data": {
      "text/plain": [
       "[0.5, 1.0, 1.5, 2.0, 2.5, 3.0, 3.5, 4.0, 4.5, 5.0]"
      ]
     },
     "execution_count": 109,
     "metadata": {},
     "output_type": "execute_result"
    }
   ],
   "source": [
    "list(map(bolmeIslemi, benimListem))"
   ]
  },
  {
   "cell_type": "code",
   "execution_count": 110,
   "id": "94beede6",
   "metadata": {},
   "outputs": [],
   "source": [
    "def kontrolFonksiyonu(string):\n",
    "  return \"a\" in string"
   ]
  },
  {
   "cell_type": "code",
   "execution_count": 111,
   "id": "771c0098",
   "metadata": {},
   "outputs": [
    {
     "name": "stdout",
     "output_type": "stream",
     "text": [
      "hata\n"
     ]
    }
   ],
   "source": [
    "kontrolFonksiyon(\"atıl\")"
   ]
  },
  {
   "cell_type": "code",
   "execution_count": 112,
   "id": "f08bf91d",
   "metadata": {},
   "outputs": [],
   "source": [
    "def kontrolFonksiyonu(string):\n",
    "  return \"a\" in string"
   ]
  },
  {
   "cell_type": "code",
   "execution_count": 113,
   "id": "6aba5249",
   "metadata": {},
   "outputs": [
    {
     "data": {
      "text/plain": [
       "False"
      ]
     },
     "execution_count": 113,
     "metadata": {},
     "output_type": "execute_result"
    }
   ],
   "source": [
    "kontrolFonksiyonu(\"eqwe\")"
   ]
  },
  {
   "cell_type": "code",
   "execution_count": 114,
   "id": "178cc2cb",
   "metadata": {},
   "outputs": [],
   "source": [
    "mylist = [\"apple\", \"banana\", \"cherry\"]"
   ]
  },
  {
   "cell_type": "code",
   "execution_count": 115,
   "id": "d7f7c339",
   "metadata": {},
   "outputs": [
    {
     "data": {
      "text/plain": [
       "[True, True, False]"
      ]
     },
     "execution_count": 115,
     "metadata": {},
     "output_type": "execute_result"
    }
   ],
   "source": [
    "list(map(kontrolFonksiyonu, mylist))"
   ]
  },
  {
   "cell_type": "code",
   "execution_count": 116,
   "id": "8fc469c0",
   "metadata": {},
   "outputs": [
    {
     "data": {
      "text/plain": [
       "['apple', 'banana']"
      ]
     },
     "execution_count": 116,
     "metadata": {},
     "output_type": "execute_result"
    }
   ],
   "source": [
    "list(filter(kontrolFonksiyonu,mylist))"
   ]
  },
  {
   "cell_type": "code",
   "execution_count": 117,
   "id": "1f1a6b75",
   "metadata": {},
   "outputs": [],
   "source": [
    "carpma = lambda numara : numara *3"
   ]
  },
  {
   "cell_type": "code",
   "execution_count": 118,
   "id": "6c1e10ab",
   "metadata": {},
   "outputs": [
    {
     "data": {
      "text/plain": [
       "30"
      ]
     },
     "execution_count": 118,
     "metadata": {},
     "output_type": "execute_result"
    }
   ],
   "source": [
    "carpma(10)"
   ]
  },
  {
   "cell_type": "code",
   "execution_count": 119,
   "id": "ac525581",
   "metadata": {},
   "outputs": [
    {
     "data": {
      "text/plain": [
       "['appleappleappleapple',\n",
       " 'bananabananabananabanana',\n",
       " 'cherrycherrycherrycherry']"
      ]
     },
     "execution_count": 119,
     "metadata": {},
     "output_type": "execute_result"
    }
   ],
   "source": [
    "list(map(lambda numara: numara * 4, mylist))"
   ]
  },
  {
   "cell_type": "code",
   "execution_count": 120,
   "id": "391dc2be",
   "metadata": {},
   "outputs": [
    {
     "data": {
      "text/plain": [
       "50"
      ]
     },
     "execution_count": 120,
     "metadata": {},
     "output_type": "execute_result"
    }
   ],
   "source": [
    "#scope\n",
    "numara = 20\n",
    "\n",
    "def carpma(rakam):\n",
    "  numara = 10\n",
    "  return numara*rakam\n",
    "carpma(5)"
   ]
  },
  {
   "cell_type": "code",
   "execution_count": 121,
   "id": "d5db2676",
   "metadata": {},
   "outputs": [
    {
     "name": "stdout",
     "output_type": "stream",
     "text": [
      "20\n"
     ]
    }
   ],
   "source": [
    "print(numara)"
   ]
  },
  {
   "cell_type": "code",
   "execution_count": 122,
   "id": "7f532177",
   "metadata": {},
   "outputs": [
    {
     "name": "stdout",
     "output_type": "stream",
     "text": [
      "Ölmez\n"
     ]
    }
   ],
   "source": [
    "isim = \"Barış\"\n",
    "\n",
    "def isimFonk():\n",
    "  isim = \"Erhan\"\n",
    "\n",
    "  def icFonk():\n",
    "    isim = \"Ölmez\"\n",
    "    print(isim)\n",
    "\n",
    "  icFonk()\n",
    "\n",
    "isimFonk()"
   ]
  },
  {
   "cell_type": "code",
   "execution_count": 123,
   "id": "d5c2a431",
   "metadata": {},
   "outputs": [
    {
     "name": "stdout",
     "output_type": "stream",
     "text": [
      "Barış\n"
     ]
    }
   ],
   "source": [
    "print(isim)"
   ]
  },
  {
   "cell_type": "code",
   "execution_count": 124,
   "id": "4068e2cd",
   "metadata": {},
   "outputs": [],
   "source": [
    "\n",
    "y  = 10\n",
    "\n",
    "def deneme():\n",
    "  global y\n",
    "  y = 5\n",
    "  print(y)"
   ]
  },
  {
   "cell_type": "code",
   "execution_count": 125,
   "id": "177d78bf",
   "metadata": {},
   "outputs": [
    {
     "data": {
      "text/plain": [
       "10"
      ]
     },
     "execution_count": 125,
     "metadata": {},
     "output_type": "execute_result"
    }
   ],
   "source": [
    "y"
   ]
  },
  {
   "cell_type": "code",
   "execution_count": 126,
   "id": "924e56f3",
   "metadata": {},
   "outputs": [],
   "source": [
    "def hesapla(**kwargs):\n",
    "  return kwargs"
   ]
  },
  {
   "cell_type": "code",
   "execution_count": null,
   "id": "692d9c14",
   "metadata": {},
   "outputs": [],
   "source": [
    " "
   ]
  },
  {
   "cell_type": "code",
   "execution_count": 127,
   "id": "e20a867d",
   "metadata": {},
   "outputs": [],
   "source": [
    "def hesapla(a, b, islem):\n",
    "  if islem == \"+\":\n",
    "    return (str(a)+ \" + \"+ str(b) + \" = \" + str(a+b))\n",
    "  if islem == \"-\":\n",
    "    return (str(a) + \" - \" + str(b) + \" = \" + str(a-b))\n",
    "  if islem == \"*\":\n",
    "    return (str(a) + \" * \" + str(b) + \" = \" + str(a*b))\n",
    "  if islem == \"/\":\n",
    "    return (str(a)+ \" / \"+ str(b) + \" = \" + str(a/b))\n",
    "  \n",
    "  a = int(input(\"s1 : \"))\n",
    "  b = int(input(\"s2 :\"))\n",
    "  islem = input(\"+-*/ gir: \")\n",
    "  hesapla(a,b, islem)\n"
   ]
  },
  {
   "cell_type": "code",
   "execution_count": 128,
   "id": "536d4ba0",
   "metadata": {},
   "outputs": [
    {
     "data": {
      "text/plain": [
       "10"
      ]
     },
     "execution_count": 128,
     "metadata": {},
     "output_type": "execute_result"
    }
   ],
   "source": [
    "10\n",
    "\n"
   ]
  },
  {
   "cell_type": "code",
   "execution_count": 129,
   "id": "3b3d26ea",
   "metadata": {},
   "outputs": [
    {
     "data": {
      "text/plain": [
       "10230123"
      ]
     },
     "execution_count": 129,
     "metadata": {},
     "output_type": "execute_result"
    }
   ],
   "source": [
    "10230123"
   ]
  },
  {
   "cell_type": "code",
   "execution_count": 130,
   "id": "5e8bad8c",
   "metadata": {},
   "outputs": [],
   "source": [
    "def hesapla(a, b, islem):\n",
    "  if islem == \"+\":\n",
    "    return (str(a)+ \" + \"+ str(b) + \" = \" + str(a+b))\n",
    "  if islem == \"-\":\n",
    "    return (str(a) + \" - \" + str(b) + \" = \" + str(a-b))\n",
    "  if islem == \"*\":\n",
    "    return (str(a) + \" * \" + str(b) + \" = \" + str(a*b))\n",
    "  if islem == \"/\":\n",
    "    return (str(a)+ \" / \"+ str(b) + \" = \" + str(a/b))\n",
    "  \n",
    "  a = int(input(\"s1 : \"))\n",
    "  b = int(input(\"s2 :\"))\n",
    "  islem = input(\"+-*/ gir: \")\n",
    "  hesapla(a,b , islem)"
   ]
  },
  {
   "cell_type": "code",
   "execution_count": 131,
   "id": "1b48d51d",
   "metadata": {},
   "outputs": [],
   "source": [
    "class SuperKahraman():\n",
    "  def __init__(self, isimInput, yasInput, meslekInput):\n",
    "    print(\"init çağrıldı\")\n",
    "    self.isim = isimInput\n",
    "    self.yas = yasInput\n",
    "    self.meslek = meslekInput\n",
    "\n"
   ]
  },
  {
   "cell_type": "code",
   "execution_count": 132,
   "id": "96528d7b",
   "metadata": {},
   "outputs": [
    {
     "name": "stdout",
     "output_type": "stream",
     "text": [
      "init oluşturuldu\n",
      " ben süper kahramanım ve mesleğim: Çoban\n"
     ]
    }
   ],
   "source": [
    "class SuperKahraman():\n",
    "\n",
    "\n",
    "    def __init__(self, isim, yas, meslek):\n",
    "        print(\"init oluşturuldu\")\n",
    "        self.isim = isim\n",
    "        self.yas = yas\n",
    "        self.meslek = meslek\n",
    "\n",
    "        \n",
    "    def ornekMethod(self):\n",
    "        print(f\" ben süper kahramanım ve mesleğim: {self.meslek}\" )\n",
    "\n",
    "superman = SuperKahraman(\"Superman\",30,\"Çoban\")\n",
    "\n",
    "superman.isim = \"Clark kent\"\n",
    "superman.isim\n",
    "superman.ornekMethod()"
   ]
  },
  {
   "cell_type": "code",
   "execution_count": 133,
   "id": "08220b8f",
   "metadata": {},
   "outputs": [
    {
     "data": {
      "text/plain": [
       "21"
      ]
     },
     "execution_count": 133,
     "metadata": {},
     "output_type": "execute_result"
    }
   ],
   "source": [
    "class Kopek():\n",
    "  yilCarpani = 7\n",
    "  def __init__(self, yas=99):\n",
    "    self.yas = yas\n",
    "\n",
    "  def insanYasiniHesapla(self, yas=10):\n",
    "    return self.yas * self.yilCarpani\n",
    "\n",
    "kopek = Kopek(3)\n",
    "kopek.yas\n",
    "\n",
    "kopek.insanYasiniHesapla()"
   ]
  },
  {
   "cell_type": "code",
   "execution_count": 134,
   "id": "4408fafa",
   "metadata": {},
   "outputs": [],
   "source": [
    "# Inheritance (KALITIM MİRAS)"
   ]
  },
  {
   "cell_type": "code",
   "execution_count": 135,
   "id": "e46a2e33",
   "metadata": {},
   "outputs": [
    {
     "name": "stdout",
     "output_type": "stream",
     "text": [
      "hayvan sınıfı init çağırıldı\n",
      "Hayvan sınıfından method1 çağırıldı.** \n",
      "Hayvan sınıfından method2 çağırıldı**\n",
      "hayvan sınıfı init çağırıldı\n",
      "kedi sınıfı init çağırıldı.\n",
      "Hayvan sınıfından method1 çağırıldı.** \n",
      "Hayvan sınıfından method2 çağırıldı**\n",
      "miyavla\n"
     ]
    }
   ],
   "source": [
    "class Hayvan():\n",
    "  def __init__(self):\n",
    "\n",
    "    print(\"hayvan sınıfı init çağırıldı\")\n",
    "\n",
    "  @classmethod\n",
    "  def method1(self):\n",
    "    \n",
    "    print(f\"Hayvan sınıfından method1 çağırıldı.** \")\n",
    "  \n",
    "  def method2(self):\n",
    "    print(\"Hayvan sınıfından method2 çağırıldı**\")\n",
    "\n",
    "  def method3(self):\n",
    "    print(\"miyavla\")\n",
    "\n",
    "hayvanOlustur = Hayvan()\n",
    "\n",
    "hayvanOlustur.method1()\n",
    "hayvanOlustur.method2()\n",
    "\n",
    "class Kedi(Hayvan):\n",
    "  def __init__(self):\n",
    "    Hayvan.__init__(self)\n",
    "    print(\"kedi sınıfı init çağırıldı.\")\n",
    "\n",
    "kediOlustur = Kedi()\n",
    "kediOlustur.method1()\n",
    "kediOlustur.method2()\n",
    "kediOlustur.method3()"
   ]
  },
  {
   "cell_type": "code",
   "execution_count": 136,
   "id": "8e142ec9",
   "metadata": {},
   "outputs": [
    {
     "name": "stdout",
     "output_type": "stream",
     "text": [
      "Hayvan sınıfından method1 çağırıldı.** \n"
     ]
    }
   ],
   "source": [
    "Hayvan.method1()"
   ]
  },
  {
   "cell_type": "code",
   "execution_count": 137,
   "id": "d4c3a6e5",
   "metadata": {},
   "outputs": [
    {
     "data": {
      "text/plain": [
       "20"
      ]
     },
     "execution_count": 137,
     "metadata": {},
     "output_type": "execute_result"
    }
   ],
   "source": [
    "import numpy as np\n",
    "\n",
    "# numpy array\n",
    "\n",
    "liste = [20,30,40]\n",
    "\n",
    "np.array(liste)  # convertir une liste en un tableau numérique de numpy\n",
    "matrixListesi = [[10,20,30,40], [20,30,40], [30,40,50]]\n",
    "matrixListesi[1][0]\n",
    "\n",
    "\n",
    "\n"
   ]
  },
  {
   "cell_type": "code",
   "execution_count": 138,
   "id": "d60d2584",
   "metadata": {},
   "outputs": [
    {
     "data": {
      "text/plain": [
       "array([[3, 2],\n",
       "       [2, 1],\n",
       "       [1, 2]])"
      ]
     },
     "execution_count": 138,
     "metadata": {},
     "output_type": "execute_result"
    }
   ],
   "source": [
    "yeniListe = [\n",
    "  [3,2],\n",
    "  [2,1],\n",
    "  [1,2],\n",
    "    ]\n",
    "np.array(yeniListe)"
   ]
  },
  {
   "cell_type": "code",
   "execution_count": 139,
   "id": "a7be3006",
   "metadata": {},
   "outputs": [
    {
     "data": {
      "text/plain": [
       "[0, 1, 2, 3, 4, 5, 6, 7, 8, 9]"
      ]
     },
     "execution_count": 139,
     "metadata": {},
     "output_type": "execute_result"
    }
   ],
   "source": [
    "list(range(0,10))"
   ]
  },
  {
   "cell_type": "code",
   "execution_count": 140,
   "id": "8c97513a",
   "metadata": {},
   "outputs": [
    {
     "data": {
      "text/plain": [
       "array([0, 1, 2, 3, 4, 5, 6, 7, 8, 9])"
      ]
     },
     "execution_count": 140,
     "metadata": {},
     "output_type": "execute_result"
    }
   ],
   "source": [
    "np.arange(0,10)"
   ]
  },
  {
   "cell_type": "code",
   "execution_count": 141,
   "id": "b6a20540",
   "metadata": {},
   "outputs": [
    {
     "data": {
      "text/plain": [
       "array([0, 3, 6, 9])"
      ]
     },
     "execution_count": 141,
     "metadata": {},
     "output_type": "execute_result"
    }
   ],
   "source": [
    "np.arange(0,10,3)"
   ]
  },
  {
   "cell_type": "code",
   "execution_count": 142,
   "id": "7df887dc",
   "metadata": {},
   "outputs": [
    {
     "data": {
      "text/plain": [
       "array([ 0.,  5., 10., 15., 20.])"
      ]
     },
     "execution_count": 142,
     "metadata": {},
     "output_type": "execute_result"
    }
   ],
   "source": [
    "np.linspace(0,20,5)"
   ]
  },
  {
   "cell_type": "code",
   "execution_count": 143,
   "id": "8fcd9f53",
   "metadata": {},
   "outputs": [
    {
     "data": {
      "text/plain": [
       "array([[1., 0., 0., 0., 0.],\n",
       "       [0., 1., 0., 0., 0.],\n",
       "       [0., 0., 1., 0., 0.],\n",
       "       [0., 0., 0., 1., 0.],\n",
       "       [0., 0., 0., 0., 1.]])"
      ]
     },
     "execution_count": 143,
     "metadata": {},
     "output_type": "execute_result"
    }
   ],
   "source": [
    "np.eye(5\n",
    "       )"
   ]
  },
  {
   "cell_type": "code",
   "execution_count": 144,
   "id": "eb5df176",
   "metadata": {},
   "outputs": [
    {
     "data": {
      "text/html": [
       "<div>\n",
       "<style scoped>\n",
       "    .dataframe tbody tr th:only-of-type {\n",
       "        vertical-align: middle;\n",
       "    }\n",
       "\n",
       "    .dataframe tbody tr th {\n",
       "        vertical-align: top;\n",
       "    }\n",
       "\n",
       "    .dataframe thead th {\n",
       "        text-align: right;\n",
       "    }\n",
       "</style>\n",
       "<table border=\"1\" class=\"dataframe\">\n",
       "  <thead>\n",
       "    <tr style=\"text-align: right;\">\n",
       "      <th></th>\n",
       "      <th>0</th>\n",
       "      <th>1</th>\n",
       "      <th>2</th>\n",
       "    </tr>\n",
       "  </thead>\n",
       "  <tbody>\n",
       "    <tr>\n",
       "      <th>0</th>\n",
       "      <td>0.762136</td>\n",
       "      <td>0.847189</td>\n",
       "      <td>0.759581</td>\n",
       "    </tr>\n",
       "    <tr>\n",
       "      <th>1</th>\n",
       "      <td>0.662688</td>\n",
       "      <td>0.153221</td>\n",
       "      <td>0.937673</td>\n",
       "    </tr>\n",
       "    <tr>\n",
       "      <th>2</th>\n",
       "      <td>0.274780</td>\n",
       "      <td>0.756323</td>\n",
       "      <td>0.629989</td>\n",
       "    </tr>\n",
       "    <tr>\n",
       "      <th>3</th>\n",
       "      <td>0.688923</td>\n",
       "      <td>0.096406</td>\n",
       "      <td>0.554618</td>\n",
       "    </tr>\n",
       "  </tbody>\n",
       "</table>\n",
       "</div>"
      ],
      "text/plain": [
       "          0         1         2\n",
       "0  0.762136  0.847189  0.759581\n",
       "1  0.662688  0.153221  0.937673\n",
       "2  0.274780  0.756323  0.629989\n",
       "3  0.688923  0.096406  0.554618"
      ]
     },
     "execution_count": 144,
     "metadata": {},
     "output_type": "execute_result"
    }
   ],
   "source": [
    "# SERIES\n",
    "import pandas as pd\n",
    "data = np.random.rand(4,3)\n",
    "\n",
    "dataFrame = pd.DataFrame(data)\n",
    "dataFrame"
   ]
  },
  {
   "cell_type": "code",
   "execution_count": 145,
   "id": "ac1c9166",
   "metadata": {},
   "outputs": [
    {
     "data": {
      "text/html": [
       "<div>\n",
       "<style scoped>\n",
       "    .dataframe tbody tr th:only-of-type {\n",
       "        vertical-align: middle;\n",
       "    }\n",
       "\n",
       "    .dataframe tbody tr th {\n",
       "        vertical-align: top;\n",
       "    }\n",
       "\n",
       "    .dataframe thead th {\n",
       "        text-align: right;\n",
       "    }\n",
       "</style>\n",
       "<table border=\"1\" class=\"dataframe\">\n",
       "  <thead>\n",
       "    <tr style=\"text-align: right;\">\n",
       "      <th></th>\n",
       "      <th>maas</th>\n",
       "      <th>yas</th>\n",
       "      <th>calisma saati</th>\n",
       "    </tr>\n",
       "  </thead>\n",
       "  <tbody>\n",
       "    <tr>\n",
       "      <th>atil</th>\n",
       "      <td>0.762136</td>\n",
       "      <td>0.847189</td>\n",
       "      <td>0.759581</td>\n",
       "    </tr>\n",
       "    <tr>\n",
       "      <th>zeynep</th>\n",
       "      <td>0.662688</td>\n",
       "      <td>0.153221</td>\n",
       "      <td>0.937673</td>\n",
       "    </tr>\n",
       "    <tr>\n",
       "      <th>atlas</th>\n",
       "      <td>0.274780</td>\n",
       "      <td>0.756323</td>\n",
       "      <td>0.629989</td>\n",
       "    </tr>\n",
       "    <tr>\n",
       "      <th>mehmet</th>\n",
       "      <td>0.688923</td>\n",
       "      <td>0.096406</td>\n",
       "      <td>0.554618</td>\n",
       "    </tr>\n",
       "  </tbody>\n",
       "</table>\n",
       "</div>"
      ],
      "text/plain": [
       "            maas       yas  calisma saati\n",
       "atil    0.762136  0.847189       0.759581\n",
       "zeynep  0.662688  0.153221       0.937673\n",
       "atlas   0.274780  0.756323       0.629989\n",
       "mehmet  0.688923  0.096406       0.554618"
      ]
     },
     "execution_count": 145,
     "metadata": {},
     "output_type": "execute_result"
    }
   ],
   "source": [
    "yeniDataFrame = pd.DataFrame(data, index=[\"atil\", \"zeynep\", \"atlas\", \"mehmet\"], columns=[\"maas\", \"yas\", \"calisma saati\"])\n",
    "yeniDataFrame"
   ]
  },
  {
   "cell_type": "code",
   "execution_count": 146,
   "id": "56d7c7b8",
   "metadata": {},
   "outputs": [
    {
     "data": {
      "text/plain": [
       "atil      0.847189\n",
       "zeynep    0.153221\n",
       "atlas     0.756323\n",
       "mehmet    0.096406\n",
       "Name: yas, dtype: float64"
      ]
     },
     "execution_count": 146,
     "metadata": {},
     "output_type": "execute_result"
    }
   ],
   "source": [
    "yeniDataFrame[\"yas\"]\n",
    "\n"
   ]
  },
  {
   "cell_type": "code",
   "execution_count": 147,
   "id": "f33170c2",
   "metadata": {},
   "outputs": [
    {
     "data": {
      "text/plain": [
       "maas             0.762136\n",
       "yas              0.847189\n",
       "calisma saati    0.759581\n",
       "Name: atil, dtype: float64"
      ]
     },
     "execution_count": 147,
     "metadata": {},
     "output_type": "execute_result"
    }
   ],
   "source": [
    "yeniDataFrame.iloc[0]"
   ]
  },
  {
   "cell_type": "code",
   "execution_count": 149,
   "id": "d8e767a3",
   "metadata": {},
   "outputs": [
    {
     "data": {
      "text/html": [
       "<div>\n",
       "<style scoped>\n",
       "    .dataframe tbody tr th:only-of-type {\n",
       "        vertical-align: middle;\n",
       "    }\n",
       "\n",
       "    .dataframe tbody tr th {\n",
       "        vertical-align: top;\n",
       "    }\n",
       "\n",
       "    .dataframe thead th {\n",
       "        text-align: right;\n",
       "    }\n",
       "</style>\n",
       "<table border=\"1\" class=\"dataframe\">\n",
       "  <thead>\n",
       "    <tr style=\"text-align: right;\">\n",
       "      <th></th>\n",
       "      <th>maas</th>\n",
       "      <th>yas</th>\n",
       "      <th>calisma saati</th>\n",
       "    </tr>\n",
       "  </thead>\n",
       "  <tbody>\n",
       "    <tr>\n",
       "      <th>atil</th>\n",
       "      <td>0.762136</td>\n",
       "      <td>0.847189</td>\n",
       "      <td>0.759581</td>\n",
       "    </tr>\n",
       "    <tr>\n",
       "      <th>zeynep</th>\n",
       "      <td>0.662688</td>\n",
       "      <td>0.153221</td>\n",
       "      <td>0.937673</td>\n",
       "    </tr>\n",
       "    <tr>\n",
       "      <th>atlas</th>\n",
       "      <td>0.274780</td>\n",
       "      <td>0.756323</td>\n",
       "      <td>0.629989</td>\n",
       "    </tr>\n",
       "    <tr>\n",
       "      <th>mehmet</th>\n",
       "      <td>0.688923</td>\n",
       "      <td>0.096406</td>\n",
       "      <td>0.554618</td>\n",
       "    </tr>\n",
       "  </tbody>\n",
       "</table>\n",
       "</div>"
      ],
      "text/plain": [
       "            maas       yas  calisma saati\n",
       "atil    0.762136  0.847189       0.759581\n",
       "zeynep  0.662688  0.153221       0.937673\n",
       "atlas   0.274780  0.756323       0.629989\n",
       "mehmet  0.688923  0.096406       0.554618"
      ]
     },
     "execution_count": 149,
     "metadata": {},
     "output_type": "execute_result"
    }
   ],
   "source": [
    "yeniDataFrame"
   ]
  },
  {
   "cell_type": "code",
   "execution_count": 152,
   "id": "e36be08e",
   "metadata": {},
   "outputs": [
    {
     "data": {
      "text/html": [
       "<div>\n",
       "<style scoped>\n",
       "    .dataframe tbody tr th:only-of-type {\n",
       "        vertical-align: middle;\n",
       "    }\n",
       "\n",
       "    .dataframe tbody tr th {\n",
       "        vertical-align: top;\n",
       "    }\n",
       "\n",
       "    .dataframe thead th {\n",
       "        text-align: right;\n",
       "    }\n",
       "</style>\n",
       "<table border=\"1\" class=\"dataframe\">\n",
       "  <thead>\n",
       "    <tr style=\"text-align: right;\">\n",
       "      <th></th>\n",
       "      <th>maas</th>\n",
       "      <th>yas</th>\n",
       "      <th>calisma saati</th>\n",
       "      <th>emeklilik yasi</th>\n",
       "    </tr>\n",
       "  </thead>\n",
       "  <tbody>\n",
       "    <tr>\n",
       "      <th>atil</th>\n",
       "      <td>0.762136</td>\n",
       "      <td>0.847189</td>\n",
       "      <td>0.759581</td>\n",
       "      <td>1.694379</td>\n",
       "    </tr>\n",
       "    <tr>\n",
       "      <th>zeynep</th>\n",
       "      <td>0.662688</td>\n",
       "      <td>0.153221</td>\n",
       "      <td>0.937673</td>\n",
       "      <td>0.306442</td>\n",
       "    </tr>\n",
       "    <tr>\n",
       "      <th>atlas</th>\n",
       "      <td>0.274780</td>\n",
       "      <td>0.756323</td>\n",
       "      <td>0.629989</td>\n",
       "      <td>1.512646</td>\n",
       "    </tr>\n",
       "    <tr>\n",
       "      <th>mehmet</th>\n",
       "      <td>0.688923</td>\n",
       "      <td>0.096406</td>\n",
       "      <td>0.554618</td>\n",
       "      <td>0.192811</td>\n",
       "    </tr>\n",
       "  </tbody>\n",
       "</table>\n",
       "</div>"
      ],
      "text/plain": [
       "            maas       yas  calisma saati  emeklilik yasi\n",
       "atil    0.762136  0.847189       0.759581        1.694379\n",
       "zeynep  0.662688  0.153221       0.937673        0.306442\n",
       "atlas   0.274780  0.756323       0.629989        1.512646\n",
       "mehmet  0.688923  0.096406       0.554618        0.192811"
      ]
     },
     "execution_count": 152,
     "metadata": {},
     "output_type": "execute_result"
    }
   ],
   "source": [
    "yeniDataFrame[\"emeklilik yasi\"] = yeniDataFrame[\"yas\"] + yeniDataFrame[\"yas\"]\n",
    "yeniDataFrame"
   ]
  },
  {
   "cell_type": "code",
   "execution_count": 154,
   "id": "65423f5a",
   "metadata": {},
   "outputs": [
    {
     "data": {
      "text/html": [
       "<div>\n",
       "<style scoped>\n",
       "    .dataframe tbody tr th:only-of-type {\n",
       "        vertical-align: middle;\n",
       "    }\n",
       "\n",
       "    .dataframe tbody tr th {\n",
       "        vertical-align: top;\n",
       "    }\n",
       "\n",
       "    .dataframe thead th {\n",
       "        text-align: right;\n",
       "    }\n",
       "</style>\n",
       "<table border=\"1\" class=\"dataframe\">\n",
       "  <thead>\n",
       "    <tr style=\"text-align: right;\">\n",
       "      <th></th>\n",
       "      <th>maas</th>\n",
       "      <th>yas</th>\n",
       "      <th>calisma saati</th>\n",
       "    </tr>\n",
       "  </thead>\n",
       "  <tbody>\n",
       "    <tr>\n",
       "      <th>atil</th>\n",
       "      <td>0.762136</td>\n",
       "      <td>0.847189</td>\n",
       "      <td>0.759581</td>\n",
       "    </tr>\n",
       "    <tr>\n",
       "      <th>zeynep</th>\n",
       "      <td>0.662688</td>\n",
       "      <td>0.153221</td>\n",
       "      <td>0.937673</td>\n",
       "    </tr>\n",
       "    <tr>\n",
       "      <th>atlas</th>\n",
       "      <td>0.274780</td>\n",
       "      <td>0.756323</td>\n",
       "      <td>0.629989</td>\n",
       "    </tr>\n",
       "    <tr>\n",
       "      <th>mehmet</th>\n",
       "      <td>0.688923</td>\n",
       "      <td>0.096406</td>\n",
       "      <td>0.554618</td>\n",
       "    </tr>\n",
       "  </tbody>\n",
       "</table>\n",
       "</div>"
      ],
      "text/plain": [
       "            maas       yas  calisma saati\n",
       "atil    0.762136  0.847189       0.759581\n",
       "zeynep  0.662688  0.153221       0.937673\n",
       "atlas   0.274780  0.756323       0.629989\n",
       "mehmet  0.688923  0.096406       0.554618"
      ]
     },
     "execution_count": 154,
     "metadata": {},
     "output_type": "execute_result"
    }
   ],
   "source": [
    "yeniDataFrame.drop(\"emeklilik yasi\", axis=1)"
   ]
  },
  {
   "cell_type": "code",
   "execution_count": 155,
   "id": "7f35a408",
   "metadata": {},
   "outputs": [
    {
     "data": {
      "text/html": [
       "<div>\n",
       "<style scoped>\n",
       "    .dataframe tbody tr th:only-of-type {\n",
       "        vertical-align: middle;\n",
       "    }\n",
       "\n",
       "    .dataframe tbody tr th {\n",
       "        vertical-align: top;\n",
       "    }\n",
       "\n",
       "    .dataframe thead th {\n",
       "        text-align: right;\n",
       "    }\n",
       "</style>\n",
       "<table border=\"1\" class=\"dataframe\">\n",
       "  <thead>\n",
       "    <tr style=\"text-align: right;\">\n",
       "      <th></th>\n",
       "      <th>maas</th>\n",
       "      <th>yas</th>\n",
       "      <th>calisma saati</th>\n",
       "      <th>emeklilik yasi</th>\n",
       "    </tr>\n",
       "  </thead>\n",
       "  <tbody>\n",
       "    <tr>\n",
       "      <th>atil</th>\n",
       "      <td>0.762136</td>\n",
       "      <td>0.847189</td>\n",
       "      <td>0.759581</td>\n",
       "      <td>1.694379</td>\n",
       "    </tr>\n",
       "    <tr>\n",
       "      <th>zeynep</th>\n",
       "      <td>0.662688</td>\n",
       "      <td>0.153221</td>\n",
       "      <td>0.937673</td>\n",
       "      <td>0.306442</td>\n",
       "    </tr>\n",
       "    <tr>\n",
       "      <th>atlas</th>\n",
       "      <td>0.274780</td>\n",
       "      <td>0.756323</td>\n",
       "      <td>0.629989</td>\n",
       "      <td>1.512646</td>\n",
       "    </tr>\n",
       "  </tbody>\n",
       "</table>\n",
       "</div>"
      ],
      "text/plain": [
       "            maas       yas  calisma saati  emeklilik yasi\n",
       "atil    0.762136  0.847189       0.759581        1.694379\n",
       "zeynep  0.662688  0.153221       0.937673        0.306442\n",
       "atlas   0.274780  0.756323       0.629989        1.512646"
      ]
     },
     "execution_count": 155,
     "metadata": {},
     "output_type": "execute_result"
    }
   ],
   "source": [
    "yeniDataFrame.drop(\"mehmet\")"
   ]
  },
  {
   "cell_type": "code",
   "execution_count": 156,
   "id": "05791265",
   "metadata": {},
   "outputs": [
    {
     "data": {
      "text/html": [
       "<div>\n",
       "<style scoped>\n",
       "    .dataframe tbody tr th:only-of-type {\n",
       "        vertical-align: middle;\n",
       "    }\n",
       "\n",
       "    .dataframe tbody tr th {\n",
       "        vertical-align: top;\n",
       "    }\n",
       "\n",
       "    .dataframe thead th {\n",
       "        text-align: right;\n",
       "    }\n",
       "</style>\n",
       "<table border=\"1\" class=\"dataframe\">\n",
       "  <thead>\n",
       "    <tr style=\"text-align: right;\">\n",
       "      <th></th>\n",
       "      <th>maas</th>\n",
       "      <th>yas</th>\n",
       "      <th>calisma saati</th>\n",
       "      <th>emeklilik yasi</th>\n",
       "    </tr>\n",
       "  </thead>\n",
       "  <tbody>\n",
       "    <tr>\n",
       "      <th>atil</th>\n",
       "      <td>0.762136</td>\n",
       "      <td>0.847189</td>\n",
       "      <td>0.759581</td>\n",
       "      <td>1.694379</td>\n",
       "    </tr>\n",
       "    <tr>\n",
       "      <th>zeynep</th>\n",
       "      <td>0.662688</td>\n",
       "      <td>0.153221</td>\n",
       "      <td>0.937673</td>\n",
       "      <td>0.306442</td>\n",
       "    </tr>\n",
       "    <tr>\n",
       "      <th>atlas</th>\n",
       "      <td>0.274780</td>\n",
       "      <td>0.756323</td>\n",
       "      <td>0.629989</td>\n",
       "      <td>1.512646</td>\n",
       "    </tr>\n",
       "    <tr>\n",
       "      <th>mehmet</th>\n",
       "      <td>0.688923</td>\n",
       "      <td>0.096406</td>\n",
       "      <td>0.554618</td>\n",
       "      <td>0.192811</td>\n",
       "    </tr>\n",
       "  </tbody>\n",
       "</table>\n",
       "</div>"
      ],
      "text/plain": [
       "            maas       yas  calisma saati  emeklilik yasi\n",
       "atil    0.762136  0.847189       0.759581        1.694379\n",
       "zeynep  0.662688  0.153221       0.937673        0.306442\n",
       "atlas   0.274780  0.756323       0.629989        1.512646\n",
       "mehmet  0.688923  0.096406       0.554618        0.192811"
      ]
     },
     "execution_count": 156,
     "metadata": {},
     "output_type": "execute_result"
    }
   ],
   "source": [
    "yeniDataFrame"
   ]
  },
  {
   "cell_type": "code",
   "execution_count": 157,
   "id": "ccb2613f",
   "metadata": {},
   "outputs": [],
   "source": [
    "yeniDataFrame.drop(\"emeklilik yasi\", axis=1, inplace=True)"
   ]
  },
  {
   "cell_type": "code",
   "execution_count": 158,
   "id": "61551880",
   "metadata": {},
   "outputs": [
    {
     "data": {
      "text/html": [
       "<div>\n",
       "<style scoped>\n",
       "    .dataframe tbody tr th:only-of-type {\n",
       "        vertical-align: middle;\n",
       "    }\n",
       "\n",
       "    .dataframe tbody tr th {\n",
       "        vertical-align: top;\n",
       "    }\n",
       "\n",
       "    .dataframe thead th {\n",
       "        text-align: right;\n",
       "    }\n",
       "</style>\n",
       "<table border=\"1\" class=\"dataframe\">\n",
       "  <thead>\n",
       "    <tr style=\"text-align: right;\">\n",
       "      <th></th>\n",
       "      <th>maas</th>\n",
       "      <th>yas</th>\n",
       "      <th>calisma saati</th>\n",
       "    </tr>\n",
       "  </thead>\n",
       "  <tbody>\n",
       "    <tr>\n",
       "      <th>atil</th>\n",
       "      <td>0.762136</td>\n",
       "      <td>0.847189</td>\n",
       "      <td>0.759581</td>\n",
       "    </tr>\n",
       "    <tr>\n",
       "      <th>zeynep</th>\n",
       "      <td>0.662688</td>\n",
       "      <td>0.153221</td>\n",
       "      <td>0.937673</td>\n",
       "    </tr>\n",
       "    <tr>\n",
       "      <th>atlas</th>\n",
       "      <td>0.274780</td>\n",
       "      <td>0.756323</td>\n",
       "      <td>0.629989</td>\n",
       "    </tr>\n",
       "    <tr>\n",
       "      <th>mehmet</th>\n",
       "      <td>0.688923</td>\n",
       "      <td>0.096406</td>\n",
       "      <td>0.554618</td>\n",
       "    </tr>\n",
       "  </tbody>\n",
       "</table>\n",
       "</div>"
      ],
      "text/plain": [
       "            maas       yas  calisma saati\n",
       "atil    0.762136  0.847189       0.759581\n",
       "zeynep  0.662688  0.153221       0.937673\n",
       "atlas   0.274780  0.756323       0.629989\n",
       "mehmet  0.688923  0.096406       0.554618"
      ]
     },
     "execution_count": 158,
     "metadata": {},
     "output_type": "execute_result"
    }
   ],
   "source": [
    "yeniDataFrame"
   ]
  },
  {
   "cell_type": "code",
   "execution_count": 160,
   "id": "8c043342",
   "metadata": {},
   "outputs": [
    {
     "data": {
      "text/plain": [
       "0.8471893635818335"
      ]
     },
     "execution_count": 160,
     "metadata": {},
     "output_type": "execute_result"
    }
   ],
   "source": [
    "yeniDataFrame.loc[\"atil\"][\"yas\"]"
   ]
  },
  {
   "cell_type": "code",
   "execution_count": 161,
   "id": "48071abe",
   "metadata": {},
   "outputs": [
    {
     "data": {
      "text/plain": [
       "0.7563231375320421"
      ]
     },
     "execution_count": 161,
     "metadata": {},
     "output_type": "execute_result"
    }
   ],
   "source": [
    "yeniDataFrame.loc[\"atlas\", \"yas\"]"
   ]
  },
  {
   "cell_type": "code",
   "execution_count": 163,
   "id": "f2028067",
   "metadata": {},
   "outputs": [],
   "source": [
    "booleanFrame = yeniDataFrame < 0"
   ]
  },
  {
   "cell_type": "code",
   "execution_count": 164,
   "id": "6e4ee3e7",
   "metadata": {},
   "outputs": [
    {
     "data": {
      "text/html": [
       "<div>\n",
       "<style scoped>\n",
       "    .dataframe tbody tr th:only-of-type {\n",
       "        vertical-align: middle;\n",
       "    }\n",
       "\n",
       "    .dataframe tbody tr th {\n",
       "        vertical-align: top;\n",
       "    }\n",
       "\n",
       "    .dataframe thead th {\n",
       "        text-align: right;\n",
       "    }\n",
       "</style>\n",
       "<table border=\"1\" class=\"dataframe\">\n",
       "  <thead>\n",
       "    <tr style=\"text-align: right;\">\n",
       "      <th></th>\n",
       "      <th>maas</th>\n",
       "      <th>yas</th>\n",
       "      <th>calisma saati</th>\n",
       "    </tr>\n",
       "  </thead>\n",
       "  <tbody>\n",
       "    <tr>\n",
       "      <th>atil</th>\n",
       "      <td>False</td>\n",
       "      <td>False</td>\n",
       "      <td>False</td>\n",
       "    </tr>\n",
       "    <tr>\n",
       "      <th>zeynep</th>\n",
       "      <td>False</td>\n",
       "      <td>False</td>\n",
       "      <td>False</td>\n",
       "    </tr>\n",
       "    <tr>\n",
       "      <th>atlas</th>\n",
       "      <td>False</td>\n",
       "      <td>False</td>\n",
       "      <td>False</td>\n",
       "    </tr>\n",
       "    <tr>\n",
       "      <th>mehmet</th>\n",
       "      <td>False</td>\n",
       "      <td>False</td>\n",
       "      <td>False</td>\n",
       "    </tr>\n",
       "  </tbody>\n",
       "</table>\n",
       "</div>"
      ],
      "text/plain": [
       "         maas    yas  calisma saati\n",
       "atil    False  False          False\n",
       "zeynep  False  False          False\n",
       "atlas   False  False          False\n",
       "mehmet  False  False          False"
      ]
     },
     "execution_count": 164,
     "metadata": {},
     "output_type": "execute_result"
    }
   ],
   "source": [
    "booleanFrame"
   ]
  },
  {
   "cell_type": "code",
   "execution_count": 167,
   "id": "291f3bf9",
   "metadata": {},
   "outputs": [
    {
     "data": {
      "text/html": [
       "<div>\n",
       "<style scoped>\n",
       "    .dataframe tbody tr th:only-of-type {\n",
       "        vertical-align: middle;\n",
       "    }\n",
       "\n",
       "    .dataframe tbody tr th {\n",
       "        vertical-align: top;\n",
       "    }\n",
       "\n",
       "    .dataframe thead th {\n",
       "        text-align: right;\n",
       "    }\n",
       "</style>\n",
       "<table border=\"1\" class=\"dataframe\">\n",
       "  <thead>\n",
       "    <tr style=\"text-align: right;\">\n",
       "      <th></th>\n",
       "      <th>maas</th>\n",
       "      <th>yas</th>\n",
       "      <th>calisma saati</th>\n",
       "    </tr>\n",
       "  </thead>\n",
       "  <tbody>\n",
       "    <tr>\n",
       "      <th>atil</th>\n",
       "      <td>NaN</td>\n",
       "      <td>NaN</td>\n",
       "      <td>NaN</td>\n",
       "    </tr>\n",
       "    <tr>\n",
       "      <th>zeynep</th>\n",
       "      <td>NaN</td>\n",
       "      <td>NaN</td>\n",
       "      <td>NaN</td>\n",
       "    </tr>\n",
       "    <tr>\n",
       "      <th>atlas</th>\n",
       "      <td>NaN</td>\n",
       "      <td>NaN</td>\n",
       "      <td>NaN</td>\n",
       "    </tr>\n",
       "    <tr>\n",
       "      <th>mehmet</th>\n",
       "      <td>NaN</td>\n",
       "      <td>NaN</td>\n",
       "      <td>NaN</td>\n",
       "    </tr>\n",
       "  </tbody>\n",
       "</table>\n",
       "</div>"
      ],
      "text/plain": [
       "        maas  yas  calisma saati\n",
       "atil     NaN  NaN            NaN\n",
       "zeynep   NaN  NaN            NaN\n",
       "atlas    NaN  NaN            NaN\n",
       "mehmet   NaN  NaN            NaN"
      ]
     },
     "execution_count": 167,
     "metadata": {},
     "output_type": "execute_result"
    }
   ],
   "source": [
    "yeniDataFrame[booleanFrame]"
   ]
  },
  {
   "cell_type": "code",
   "execution_count": 168,
   "id": "983bfad4",
   "metadata": {},
   "outputs": [
    {
     "data": {
      "text/html": [
       "<div>\n",
       "<style scoped>\n",
       "    .dataframe tbody tr th:only-of-type {\n",
       "        vertical-align: middle;\n",
       "    }\n",
       "\n",
       "    .dataframe tbody tr th {\n",
       "        vertical-align: top;\n",
       "    }\n",
       "\n",
       "    .dataframe thead th {\n",
       "        text-align: right;\n",
       "    }\n",
       "</style>\n",
       "<table border=\"1\" class=\"dataframe\">\n",
       "  <thead>\n",
       "    <tr style=\"text-align: right;\">\n",
       "      <th></th>\n",
       "      <th>maas</th>\n",
       "      <th>yas</th>\n",
       "      <th>calisma saati</th>\n",
       "    </tr>\n",
       "  </thead>\n",
       "  <tbody>\n",
       "    <tr>\n",
       "      <th>atil</th>\n",
       "      <td>NaN</td>\n",
       "      <td>NaN</td>\n",
       "      <td>NaN</td>\n",
       "    </tr>\n",
       "    <tr>\n",
       "      <th>zeynep</th>\n",
       "      <td>NaN</td>\n",
       "      <td>NaN</td>\n",
       "      <td>NaN</td>\n",
       "    </tr>\n",
       "    <tr>\n",
       "      <th>atlas</th>\n",
       "      <td>NaN</td>\n",
       "      <td>NaN</td>\n",
       "      <td>NaN</td>\n",
       "    </tr>\n",
       "    <tr>\n",
       "      <th>mehmet</th>\n",
       "      <td>NaN</td>\n",
       "      <td>NaN</td>\n",
       "      <td>NaN</td>\n",
       "    </tr>\n",
       "  </tbody>\n",
       "</table>\n",
       "</div>"
      ],
      "text/plain": [
       "        maas  yas  calisma saati\n",
       "atil     NaN  NaN            NaN\n",
       "zeynep   NaN  NaN            NaN\n",
       "atlas    NaN  NaN            NaN\n",
       "mehmet   NaN  NaN            NaN"
      ]
     },
     "execution_count": 168,
     "metadata": {},
     "output_type": "execute_result"
    }
   ],
   "source": [
    "yeniDataFrame[yeniDataFrame <0]"
   ]
  },
  {
   "cell_type": "code",
   "execution_count": 172,
   "id": "02773eb2",
   "metadata": {},
   "outputs": [
    {
     "data": {
      "text/html": [
       "<div>\n",
       "<style scoped>\n",
       "    .dataframe tbody tr th:only-of-type {\n",
       "        vertical-align: middle;\n",
       "    }\n",
       "\n",
       "    .dataframe tbody tr th {\n",
       "        vertical-align: top;\n",
       "    }\n",
       "\n",
       "    .dataframe thead th {\n",
       "        text-align: right;\n",
       "    }\n",
       "</style>\n",
       "<table border=\"1\" class=\"dataframe\">\n",
       "  <thead>\n",
       "    <tr style=\"text-align: right;\">\n",
       "      <th></th>\n",
       "      <th>maas</th>\n",
       "      <th>yas</th>\n",
       "      <th>calisma saati</th>\n",
       "    </tr>\n",
       "  </thead>\n",
       "  <tbody>\n",
       "    <tr>\n",
       "      <th>atil</th>\n",
       "      <td>0.762136</td>\n",
       "      <td>0.847189</td>\n",
       "      <td>0.759581</td>\n",
       "    </tr>\n",
       "    <tr>\n",
       "      <th>zeynep</th>\n",
       "      <td>0.662688</td>\n",
       "      <td>0.153221</td>\n",
       "      <td>0.937673</td>\n",
       "    </tr>\n",
       "    <tr>\n",
       "      <th>atlas</th>\n",
       "      <td>0.274780</td>\n",
       "      <td>0.756323</td>\n",
       "      <td>0.629989</td>\n",
       "    </tr>\n",
       "  </tbody>\n",
       "</table>\n",
       "</div>"
      ],
      "text/plain": [
       "            maas       yas  calisma saati\n",
       "atil    0.762136  0.847189       0.759581\n",
       "zeynep  0.662688  0.153221       0.937673\n",
       "atlas   0.274780  0.756323       0.629989"
      ]
     },
     "execution_count": 172,
     "metadata": {},
     "output_type": "execute_result"
    }
   ],
   "source": [
    "yeniDataFrame[yeniDataFrame[\"yas\"] >0.111111]"
   ]
  },
  {
   "cell_type": "code",
   "execution_count": 173,
   "id": "4173fc6f",
   "metadata": {},
   "outputs": [
    {
     "data": {
      "text/html": [
       "<div>\n",
       "<style scoped>\n",
       "    .dataframe tbody tr th:only-of-type {\n",
       "        vertical-align: middle;\n",
       "    }\n",
       "\n",
       "    .dataframe tbody tr th {\n",
       "        vertical-align: top;\n",
       "    }\n",
       "\n",
       "    .dataframe thead th {\n",
       "        text-align: right;\n",
       "    }\n",
       "</style>\n",
       "<table border=\"1\" class=\"dataframe\">\n",
       "  <thead>\n",
       "    <tr style=\"text-align: right;\">\n",
       "      <th></th>\n",
       "      <th>maas</th>\n",
       "      <th>yas</th>\n",
       "      <th>calisma saati</th>\n",
       "    </tr>\n",
       "  </thead>\n",
       "  <tbody>\n",
       "    <tr>\n",
       "      <th>atil</th>\n",
       "      <td>0.762136</td>\n",
       "      <td>0.847189</td>\n",
       "      <td>0.759581</td>\n",
       "    </tr>\n",
       "    <tr>\n",
       "      <th>zeynep</th>\n",
       "      <td>0.662688</td>\n",
       "      <td>0.153221</td>\n",
       "      <td>0.937673</td>\n",
       "    </tr>\n",
       "    <tr>\n",
       "      <th>atlas</th>\n",
       "      <td>0.274780</td>\n",
       "      <td>0.756323</td>\n",
       "      <td>0.629989</td>\n",
       "    </tr>\n",
       "    <tr>\n",
       "      <th>mehmet</th>\n",
       "      <td>0.688923</td>\n",
       "      <td>0.096406</td>\n",
       "      <td>0.554618</td>\n",
       "    </tr>\n",
       "  </tbody>\n",
       "</table>\n",
       "</div>"
      ],
      "text/plain": [
       "            maas       yas  calisma saati\n",
       "atil    0.762136  0.847189       0.759581\n",
       "zeynep  0.662688  0.153221       0.937673\n",
       "atlas   0.274780  0.756323       0.629989\n",
       "mehmet  0.688923  0.096406       0.554618"
      ]
     },
     "execution_count": 173,
     "metadata": {},
     "output_type": "execute_result"
    }
   ],
   "source": [
    "yeniDataFrame"
   ]
  },
  {
   "cell_type": "code",
   "execution_count": 174,
   "id": "cfbbb7ba",
   "metadata": {},
   "outputs": [
    {
     "data": {
      "text/html": [
       "<div>\n",
       "<style scoped>\n",
       "    .dataframe tbody tr th:only-of-type {\n",
       "        vertical-align: middle;\n",
       "    }\n",
       "\n",
       "    .dataframe tbody tr th {\n",
       "        vertical-align: top;\n",
       "    }\n",
       "\n",
       "    .dataframe thead th {\n",
       "        text-align: right;\n",
       "    }\n",
       "</style>\n",
       "<table border=\"1\" class=\"dataframe\">\n",
       "  <thead>\n",
       "    <tr style=\"text-align: right;\">\n",
       "      <th></th>\n",
       "      <th>index</th>\n",
       "      <th>maas</th>\n",
       "      <th>yas</th>\n",
       "      <th>calisma saati</th>\n",
       "    </tr>\n",
       "  </thead>\n",
       "  <tbody>\n",
       "    <tr>\n",
       "      <th>0</th>\n",
       "      <td>atil</td>\n",
       "      <td>0.762136</td>\n",
       "      <td>0.847189</td>\n",
       "      <td>0.759581</td>\n",
       "    </tr>\n",
       "    <tr>\n",
       "      <th>1</th>\n",
       "      <td>zeynep</td>\n",
       "      <td>0.662688</td>\n",
       "      <td>0.153221</td>\n",
       "      <td>0.937673</td>\n",
       "    </tr>\n",
       "    <tr>\n",
       "      <th>2</th>\n",
       "      <td>atlas</td>\n",
       "      <td>0.274780</td>\n",
       "      <td>0.756323</td>\n",
       "      <td>0.629989</td>\n",
       "    </tr>\n",
       "    <tr>\n",
       "      <th>3</th>\n",
       "      <td>mehmet</td>\n",
       "      <td>0.688923</td>\n",
       "      <td>0.096406</td>\n",
       "      <td>0.554618</td>\n",
       "    </tr>\n",
       "  </tbody>\n",
       "</table>\n",
       "</div>"
      ],
      "text/plain": [
       "    index      maas       yas  calisma saati\n",
       "0    atil  0.762136  0.847189       0.759581\n",
       "1  zeynep  0.662688  0.153221       0.937673\n",
       "2   atlas  0.274780  0.756323       0.629989\n",
       "3  mehmet  0.688923  0.096406       0.554618"
      ]
     },
     "execution_count": 174,
     "metadata": {},
     "output_type": "execute_result"
    }
   ],
   "source": [
    "yeniDataFrame.reset_index()"
   ]
  },
  {
   "cell_type": "code",
   "execution_count": 175,
   "id": "f05f9c1b",
   "metadata": {},
   "outputs": [
    {
     "data": {
      "text/html": [
       "<div>\n",
       "<style scoped>\n",
       "    .dataframe tbody tr th:only-of-type {\n",
       "        vertical-align: middle;\n",
       "    }\n",
       "\n",
       "    .dataframe tbody tr th {\n",
       "        vertical-align: top;\n",
       "    }\n",
       "\n",
       "    .dataframe thead th {\n",
       "        text-align: right;\n",
       "    }\n",
       "</style>\n",
       "<table border=\"1\" class=\"dataframe\">\n",
       "  <thead>\n",
       "    <tr style=\"text-align: right;\">\n",
       "      <th></th>\n",
       "      <th>maas</th>\n",
       "      <th>yas</th>\n",
       "      <th>calisma saati</th>\n",
       "    </tr>\n",
       "  </thead>\n",
       "  <tbody>\n",
       "    <tr>\n",
       "      <th>atil</th>\n",
       "      <td>0.762136</td>\n",
       "      <td>0.847189</td>\n",
       "      <td>0.759581</td>\n",
       "    </tr>\n",
       "    <tr>\n",
       "      <th>zeynep</th>\n",
       "      <td>0.662688</td>\n",
       "      <td>0.153221</td>\n",
       "      <td>0.937673</td>\n",
       "    </tr>\n",
       "    <tr>\n",
       "      <th>atlas</th>\n",
       "      <td>0.274780</td>\n",
       "      <td>0.756323</td>\n",
       "      <td>0.629989</td>\n",
       "    </tr>\n",
       "    <tr>\n",
       "      <th>mehmet</th>\n",
       "      <td>0.688923</td>\n",
       "      <td>0.096406</td>\n",
       "      <td>0.554618</td>\n",
       "    </tr>\n",
       "  </tbody>\n",
       "</table>\n",
       "</div>"
      ],
      "text/plain": [
       "            maas       yas  calisma saati\n",
       "atil    0.762136  0.847189       0.759581\n",
       "zeynep  0.662688  0.153221       0.937673\n",
       "atlas   0.274780  0.756323       0.629989\n",
       "mehmet  0.688923  0.096406       0.554618"
      ]
     },
     "execution_count": 175,
     "metadata": {},
     "output_type": "execute_result"
    }
   ],
   "source": [
    "yeniDataFrame"
   ]
  },
  {
   "cell_type": "code",
   "execution_count": 176,
   "id": "73e2b92c",
   "metadata": {},
   "outputs": [],
   "source": [
    "yeniIndexListesi = [\"ati\", \"zey\", \"atl\", \"meh\"]"
   ]
  },
  {
   "cell_type": "code",
   "execution_count": 177,
   "id": "a982631a",
   "metadata": {},
   "outputs": [],
   "source": [
    "yeniDataFrame[\"yeni ındeks\"] = yeniIndexListesi"
   ]
  },
  {
   "cell_type": "code",
   "execution_count": 178,
   "id": "9521070b",
   "metadata": {},
   "outputs": [
    {
     "data": {
      "text/html": [
       "<div>\n",
       "<style scoped>\n",
       "    .dataframe tbody tr th:only-of-type {\n",
       "        vertical-align: middle;\n",
       "    }\n",
       "\n",
       "    .dataframe tbody tr th {\n",
       "        vertical-align: top;\n",
       "    }\n",
       "\n",
       "    .dataframe thead th {\n",
       "        text-align: right;\n",
       "    }\n",
       "</style>\n",
       "<table border=\"1\" class=\"dataframe\">\n",
       "  <thead>\n",
       "    <tr style=\"text-align: right;\">\n",
       "      <th></th>\n",
       "      <th>maas</th>\n",
       "      <th>yas</th>\n",
       "      <th>calisma saati</th>\n",
       "      <th>yeni ındeks</th>\n",
       "    </tr>\n",
       "  </thead>\n",
       "  <tbody>\n",
       "    <tr>\n",
       "      <th>atil</th>\n",
       "      <td>0.762136</td>\n",
       "      <td>0.847189</td>\n",
       "      <td>0.759581</td>\n",
       "      <td>ati</td>\n",
       "    </tr>\n",
       "    <tr>\n",
       "      <th>zeynep</th>\n",
       "      <td>0.662688</td>\n",
       "      <td>0.153221</td>\n",
       "      <td>0.937673</td>\n",
       "      <td>zey</td>\n",
       "    </tr>\n",
       "    <tr>\n",
       "      <th>atlas</th>\n",
       "      <td>0.274780</td>\n",
       "      <td>0.756323</td>\n",
       "      <td>0.629989</td>\n",
       "      <td>atl</td>\n",
       "    </tr>\n",
       "    <tr>\n",
       "      <th>mehmet</th>\n",
       "      <td>0.688923</td>\n",
       "      <td>0.096406</td>\n",
       "      <td>0.554618</td>\n",
       "      <td>meh</td>\n",
       "    </tr>\n",
       "  </tbody>\n",
       "</table>\n",
       "</div>"
      ],
      "text/plain": [
       "            maas       yas  calisma saati yeni ındeks\n",
       "atil    0.762136  0.847189       0.759581         ati\n",
       "zeynep  0.662688  0.153221       0.937673         zey\n",
       "atlas   0.274780  0.756323       0.629989         atl\n",
       "mehmet  0.688923  0.096406       0.554618         meh"
      ]
     },
     "execution_count": 178,
     "metadata": {},
     "output_type": "execute_result"
    }
   ],
   "source": [
    "yeniDataFrame"
   ]
  },
  {
   "cell_type": "code",
   "execution_count": 179,
   "id": "089f44e2",
   "metadata": {},
   "outputs": [
    {
     "data": {
      "text/html": [
       "<div>\n",
       "<style scoped>\n",
       "    .dataframe tbody tr th:only-of-type {\n",
       "        vertical-align: middle;\n",
       "    }\n",
       "\n",
       "    .dataframe tbody tr th {\n",
       "        vertical-align: top;\n",
       "    }\n",
       "\n",
       "    .dataframe thead th {\n",
       "        text-align: right;\n",
       "    }\n",
       "</style>\n",
       "<table border=\"1\" class=\"dataframe\">\n",
       "  <thead>\n",
       "    <tr style=\"text-align: right;\">\n",
       "      <th></th>\n",
       "      <th>maas</th>\n",
       "      <th>yas</th>\n",
       "      <th>calisma saati</th>\n",
       "    </tr>\n",
       "    <tr>\n",
       "      <th>yeni ındeks</th>\n",
       "      <th></th>\n",
       "      <th></th>\n",
       "      <th></th>\n",
       "    </tr>\n",
       "  </thead>\n",
       "  <tbody>\n",
       "    <tr>\n",
       "      <th>ati</th>\n",
       "      <td>0.762136</td>\n",
       "      <td>0.847189</td>\n",
       "      <td>0.759581</td>\n",
       "    </tr>\n",
       "    <tr>\n",
       "      <th>zey</th>\n",
       "      <td>0.662688</td>\n",
       "      <td>0.153221</td>\n",
       "      <td>0.937673</td>\n",
       "    </tr>\n",
       "    <tr>\n",
       "      <th>atl</th>\n",
       "      <td>0.274780</td>\n",
       "      <td>0.756323</td>\n",
       "      <td>0.629989</td>\n",
       "    </tr>\n",
       "    <tr>\n",
       "      <th>meh</th>\n",
       "      <td>0.688923</td>\n",
       "      <td>0.096406</td>\n",
       "      <td>0.554618</td>\n",
       "    </tr>\n",
       "  </tbody>\n",
       "</table>\n",
       "</div>"
      ],
      "text/plain": [
       "                 maas       yas  calisma saati\n",
       "yeni ındeks                                   \n",
       "ati          0.762136  0.847189       0.759581\n",
       "zey          0.662688  0.153221       0.937673\n",
       "atl          0.274780  0.756323       0.629989\n",
       "meh          0.688923  0.096406       0.554618"
      ]
     },
     "execution_count": 179,
     "metadata": {},
     "output_type": "execute_result"
    }
   ],
   "source": [
    "yeniDataFrame.set_index(\"yeni ındeks\")"
   ]
  },
  {
   "cell_type": "code",
   "execution_count": 180,
   "id": "4b7f5020",
   "metadata": {},
   "outputs": [
    {
     "data": {
      "text/html": [
       "<div>\n",
       "<style scoped>\n",
       "    .dataframe tbody tr th:only-of-type {\n",
       "        vertical-align: middle;\n",
       "    }\n",
       "\n",
       "    .dataframe tbody tr th {\n",
       "        vertical-align: top;\n",
       "    }\n",
       "\n",
       "    .dataframe thead th {\n",
       "        text-align: right;\n",
       "    }\n",
       "</style>\n",
       "<table border=\"1\" class=\"dataframe\">\n",
       "  <thead>\n",
       "    <tr style=\"text-align: right;\">\n",
       "      <th></th>\n",
       "      <th>maas</th>\n",
       "      <th>yas</th>\n",
       "      <th>calisma saati</th>\n",
       "      <th>yeni ındeks</th>\n",
       "    </tr>\n",
       "  </thead>\n",
       "  <tbody>\n",
       "    <tr>\n",
       "      <th>atil</th>\n",
       "      <td>0.762136</td>\n",
       "      <td>0.847189</td>\n",
       "      <td>0.759581</td>\n",
       "      <td>ati</td>\n",
       "    </tr>\n",
       "    <tr>\n",
       "      <th>zeynep</th>\n",
       "      <td>0.662688</td>\n",
       "      <td>0.153221</td>\n",
       "      <td>0.937673</td>\n",
       "      <td>zey</td>\n",
       "    </tr>\n",
       "    <tr>\n",
       "      <th>atlas</th>\n",
       "      <td>0.274780</td>\n",
       "      <td>0.756323</td>\n",
       "      <td>0.629989</td>\n",
       "      <td>atl</td>\n",
       "    </tr>\n",
       "    <tr>\n",
       "      <th>mehmet</th>\n",
       "      <td>0.688923</td>\n",
       "      <td>0.096406</td>\n",
       "      <td>0.554618</td>\n",
       "      <td>meh</td>\n",
       "    </tr>\n",
       "  </tbody>\n",
       "</table>\n",
       "</div>"
      ],
      "text/plain": [
       "            maas       yas  calisma saati yeni ındeks\n",
       "atil    0.762136  0.847189       0.759581         ati\n",
       "zeynep  0.662688  0.153221       0.937673         zey\n",
       "atlas   0.274780  0.756323       0.629989         atl\n",
       "mehmet  0.688923  0.096406       0.554618         meh"
      ]
     },
     "execution_count": 180,
     "metadata": {},
     "output_type": "execute_result"
    }
   ],
   "source": [
    "yeniDataFrame"
   ]
  },
  {
   "cell_type": "code",
   "execution_count": 181,
   "id": "b2a5795c",
   "metadata": {},
   "outputs": [],
   "source": [
    "yeniDataFrame.set_index(\"yeni ındeks\", inplace=True)"
   ]
  },
  {
   "cell_type": "code",
   "execution_count": 182,
   "id": "eb5b3353",
   "metadata": {},
   "outputs": [
    {
     "data": {
      "text/html": [
       "<div>\n",
       "<style scoped>\n",
       "    .dataframe tbody tr th:only-of-type {\n",
       "        vertical-align: middle;\n",
       "    }\n",
       "\n",
       "    .dataframe tbody tr th {\n",
       "        vertical-align: top;\n",
       "    }\n",
       "\n",
       "    .dataframe thead th {\n",
       "        text-align: right;\n",
       "    }\n",
       "</style>\n",
       "<table border=\"1\" class=\"dataframe\">\n",
       "  <thead>\n",
       "    <tr style=\"text-align: right;\">\n",
       "      <th></th>\n",
       "      <th>maas</th>\n",
       "      <th>yas</th>\n",
       "      <th>calisma saati</th>\n",
       "    </tr>\n",
       "    <tr>\n",
       "      <th>yeni ındeks</th>\n",
       "      <th></th>\n",
       "      <th></th>\n",
       "      <th></th>\n",
       "    </tr>\n",
       "  </thead>\n",
       "  <tbody>\n",
       "    <tr>\n",
       "      <th>ati</th>\n",
       "      <td>0.762136</td>\n",
       "      <td>0.847189</td>\n",
       "      <td>0.759581</td>\n",
       "    </tr>\n",
       "    <tr>\n",
       "      <th>zey</th>\n",
       "      <td>0.662688</td>\n",
       "      <td>0.153221</td>\n",
       "      <td>0.937673</td>\n",
       "    </tr>\n",
       "    <tr>\n",
       "      <th>atl</th>\n",
       "      <td>0.274780</td>\n",
       "      <td>0.756323</td>\n",
       "      <td>0.629989</td>\n",
       "    </tr>\n",
       "    <tr>\n",
       "      <th>meh</th>\n",
       "      <td>0.688923</td>\n",
       "      <td>0.096406</td>\n",
       "      <td>0.554618</td>\n",
       "    </tr>\n",
       "  </tbody>\n",
       "</table>\n",
       "</div>"
      ],
      "text/plain": [
       "                 maas       yas  calisma saati\n",
       "yeni ındeks                                   \n",
       "ati          0.762136  0.847189       0.759581\n",
       "zey          0.662688  0.153221       0.937673\n",
       "atl          0.274780  0.756323       0.629989\n",
       "meh          0.688923  0.096406       0.554618"
      ]
     },
     "execution_count": 182,
     "metadata": {},
     "output_type": "execute_result"
    }
   ],
   "source": [
    "yeniDataFrame"
   ]
  },
  {
   "cell_type": "code",
   "execution_count": 183,
   "id": "6f418b55",
   "metadata": {},
   "outputs": [
    {
     "data": {
      "text/plain": [
       "maas             0.762136\n",
       "yas              0.847189\n",
       "calisma saati    0.759581\n",
       "Name: ati, dtype: float64"
      ]
     },
     "execution_count": 183,
     "metadata": {},
     "output_type": "execute_result"
    }
   ],
   "source": [
    "yeniDataFrame.loc[\"ati\"]"
   ]
  },
  {
   "cell_type": "code",
   "execution_count": 184,
   "id": "e0b97d9f",
   "metadata": {},
   "outputs": [],
   "source": [
    "ilkIndeksler = [\"Simpson\", \"Simpson\", \"Simpson\", \"South Park\",\"South Park\",\"South Park\"]"
   ]
  },
  {
   "cell_type": "code",
   "execution_count": 185,
   "id": "cfa7b42b",
   "metadata": {},
   "outputs": [],
   "source": [
    "icIndeksler = [\"Homer\", \"Bart\", \"Marge\", \"Cartman\", \"Kenny\", \"Kyle\"]"
   ]
  },
  {
   "cell_type": "code",
   "execution_count": 186,
   "id": "cd04c45d",
   "metadata": {},
   "outputs": [],
   "source": [
    "birlesmisIndeks = list(zip(ilkIndeksler, icIndeksler))"
   ]
  },
  {
   "cell_type": "code",
   "execution_count": 187,
   "id": "f0cffdc9",
   "metadata": {},
   "outputs": [
    {
     "data": {
      "text/plain": [
       "[('Simpson', 'Homer'),\n",
       " ('Simpson', 'Bart'),\n",
       " ('Simpson', 'Marge'),\n",
       " ('South Park', 'Cartman'),\n",
       " ('South Park', 'Kenny'),\n",
       " ('South Park', 'Kyle')]"
      ]
     },
     "execution_count": 187,
     "metadata": {},
     "output_type": "execute_result"
    }
   ],
   "source": [
    "birlesmisIndeks"
   ]
  },
  {
   "cell_type": "code",
   "execution_count": 188,
   "id": "56f4b098",
   "metadata": {},
   "outputs": [],
   "source": [
    "birlesmisIndeks = pd.MultiIndex.from_tuples(birlesmisIndeks)"
   ]
  },
  {
   "cell_type": "code",
   "execution_count": 195,
   "id": "fc72b226",
   "metadata": {},
   "outputs": [
    {
     "data": {
      "text/plain": [
       "MultiIndex([(   'Simpson',   'Homer'),\n",
       "            (   'Simpson',    'Bart'),\n",
       "            (   'Simpson',   'Marge'),\n",
       "            ('South Park', 'Cartman'),\n",
       "            ('South Park',   'Kenny'),\n",
       "            ('South Park',    'Kyle')],\n",
       "           )"
      ]
     },
     "execution_count": 195,
     "metadata": {},
     "output_type": "execute_result"
    }
   ],
   "source": [
    "birlesmisIndeks\n"
   ]
  },
  {
   "cell_type": "code",
   "execution_count": 196,
   "id": "3ffe0e74",
   "metadata": {},
   "outputs": [],
   "source": [
    "benimCizgiFilmListem = [[40, \"A\"], [30,\"B\"], [30, \"C\"], [30, \"D\"], [40, \"E\"], [3, \"F\"]]"
   ]
  },
  {
   "cell_type": "code",
   "execution_count": 198,
   "id": "99596301",
   "metadata": {},
   "outputs": [],
   "source": [
    "benimCizgiFilmNumpyDizisi = np.array(benimCizgiFilmListem)"
   ]
  },
  {
   "cell_type": "code",
   "execution_count": 200,
   "id": "4d85533e",
   "metadata": {},
   "outputs": [],
   "source": [
    "benimCizgiFilmDataFrame = pd.DataFrame(benimCizgiFilmNumpyDizisi, index = birlesmisIndeks, columns=[\"yas\", \"meslek\"])"
   ]
  },
  {
   "cell_type": "code",
   "execution_count": 201,
   "id": "28d8e541",
   "metadata": {},
   "outputs": [
    {
     "data": {
      "text/html": [
       "<div>\n",
       "<style scoped>\n",
       "    .dataframe tbody tr th:only-of-type {\n",
       "        vertical-align: middle;\n",
       "    }\n",
       "\n",
       "    .dataframe tbody tr th {\n",
       "        vertical-align: top;\n",
       "    }\n",
       "\n",
       "    .dataframe thead th {\n",
       "        text-align: right;\n",
       "    }\n",
       "</style>\n",
       "<table border=\"1\" class=\"dataframe\">\n",
       "  <thead>\n",
       "    <tr style=\"text-align: right;\">\n",
       "      <th></th>\n",
       "      <th></th>\n",
       "      <th>yas</th>\n",
       "      <th>meslek</th>\n",
       "    </tr>\n",
       "  </thead>\n",
       "  <tbody>\n",
       "    <tr>\n",
       "      <th rowspan=\"3\" valign=\"top\">Simpson</th>\n",
       "      <th>Homer</th>\n",
       "      <td>40</td>\n",
       "      <td>A</td>\n",
       "    </tr>\n",
       "    <tr>\n",
       "      <th>Bart</th>\n",
       "      <td>30</td>\n",
       "      <td>B</td>\n",
       "    </tr>\n",
       "    <tr>\n",
       "      <th>Marge</th>\n",
       "      <td>30</td>\n",
       "      <td>C</td>\n",
       "    </tr>\n",
       "    <tr>\n",
       "      <th rowspan=\"3\" valign=\"top\">South Park</th>\n",
       "      <th>Cartman</th>\n",
       "      <td>30</td>\n",
       "      <td>D</td>\n",
       "    </tr>\n",
       "    <tr>\n",
       "      <th>Kenny</th>\n",
       "      <td>40</td>\n",
       "      <td>E</td>\n",
       "    </tr>\n",
       "    <tr>\n",
       "      <th>Kyle</th>\n",
       "      <td>3</td>\n",
       "      <td>F</td>\n",
       "    </tr>\n",
       "  </tbody>\n",
       "</table>\n",
       "</div>"
      ],
      "text/plain": [
       "                   yas meslek\n",
       "Simpson    Homer    40      A\n",
       "           Bart     30      B\n",
       "           Marge    30      C\n",
       "South Park Cartman  30      D\n",
       "           Kenny    40      E\n",
       "           Kyle      3      F"
      ]
     },
     "execution_count": 201,
     "metadata": {},
     "output_type": "execute_result"
    }
   ],
   "source": [
    "benimCizgiFilmDataFrame"
   ]
  },
  {
   "cell_type": "code",
   "execution_count": 203,
   "id": "1de7aa45",
   "metadata": {},
   "outputs": [
    {
     "data": {
      "text/html": [
       "<div>\n",
       "<style scoped>\n",
       "    .dataframe tbody tr th:only-of-type {\n",
       "        vertical-align: middle;\n",
       "    }\n",
       "\n",
       "    .dataframe tbody tr th {\n",
       "        vertical-align: top;\n",
       "    }\n",
       "\n",
       "    .dataframe thead th {\n",
       "        text-align: right;\n",
       "    }\n",
       "</style>\n",
       "<table border=\"1\" class=\"dataframe\">\n",
       "  <thead>\n",
       "    <tr style=\"text-align: right;\">\n",
       "      <th></th>\n",
       "      <th>yas</th>\n",
       "      <th>meslek</th>\n",
       "    </tr>\n",
       "  </thead>\n",
       "  <tbody>\n",
       "    <tr>\n",
       "      <th>Homer</th>\n",
       "      <td>40</td>\n",
       "      <td>A</td>\n",
       "    </tr>\n",
       "    <tr>\n",
       "      <th>Bart</th>\n",
       "      <td>30</td>\n",
       "      <td>B</td>\n",
       "    </tr>\n",
       "    <tr>\n",
       "      <th>Marge</th>\n",
       "      <td>30</td>\n",
       "      <td>C</td>\n",
       "    </tr>\n",
       "  </tbody>\n",
       "</table>\n",
       "</div>"
      ],
      "text/plain": [
       "      yas meslek\n",
       "Homer  40      A\n",
       "Bart   30      B\n",
       "Marge  30      C"
      ]
     },
     "execution_count": 203,
     "metadata": {},
     "output_type": "execute_result"
    }
   ],
   "source": [
    "benimCizgiFilmDataFrame.loc[\"Simpson\"]"
   ]
  },
  {
   "cell_type": "code",
   "execution_count": 204,
   "id": "5d7c13ed",
   "metadata": {},
   "outputs": [
    {
     "data": {
      "text/html": [
       "<div>\n",
       "<style scoped>\n",
       "    .dataframe tbody tr th:only-of-type {\n",
       "        vertical-align: middle;\n",
       "    }\n",
       "\n",
       "    .dataframe tbody tr th {\n",
       "        vertical-align: top;\n",
       "    }\n",
       "\n",
       "    .dataframe thead th {\n",
       "        text-align: right;\n",
       "    }\n",
       "</style>\n",
       "<table border=\"1\" class=\"dataframe\">\n",
       "  <thead>\n",
       "    <tr style=\"text-align: right;\">\n",
       "      <th></th>\n",
       "      <th>yas</th>\n",
       "      <th>meslek</th>\n",
       "    </tr>\n",
       "  </thead>\n",
       "  <tbody>\n",
       "    <tr>\n",
       "      <th>Cartman</th>\n",
       "      <td>30</td>\n",
       "      <td>D</td>\n",
       "    </tr>\n",
       "    <tr>\n",
       "      <th>Kenny</th>\n",
       "      <td>40</td>\n",
       "      <td>E</td>\n",
       "    </tr>\n",
       "    <tr>\n",
       "      <th>Kyle</th>\n",
       "      <td>3</td>\n",
       "      <td>F</td>\n",
       "    </tr>\n",
       "  </tbody>\n",
       "</table>\n",
       "</div>"
      ],
      "text/plain": [
       "        yas meslek\n",
       "Cartman  30      D\n",
       "Kenny    40      E\n",
       "Kyle      3      F"
      ]
     },
     "execution_count": 204,
     "metadata": {},
     "output_type": "execute_result"
    }
   ],
   "source": [
    "benimCizgiFilmDataFrame.loc[\"South Park\"]"
   ]
  },
  {
   "cell_type": "code",
   "execution_count": 205,
   "id": "b6f8e82c",
   "metadata": {},
   "outputs": [
    {
     "data": {
      "text/plain": [
       "yas       40\n",
       "meslek     E\n",
       "Name: Kenny, dtype: object"
      ]
     },
     "execution_count": 205,
     "metadata": {},
     "output_type": "execute_result"
    }
   ],
   "source": [
    "benimCizgiFilmDataFrame.loc[\"South Park\"].loc[\"Kenny\"]"
   ]
  },
  {
   "cell_type": "code",
   "execution_count": 206,
   "id": "9ada8c77",
   "metadata": {},
   "outputs": [],
   "source": [
    "benimCizgiFilmDataFrame.index.names = [\"film adi\", \"isim\"]"
   ]
  },
  {
   "cell_type": "code",
   "execution_count": 207,
   "id": "cad7cd12",
   "metadata": {},
   "outputs": [
    {
     "data": {
      "text/html": [
       "<div>\n",
       "<style scoped>\n",
       "    .dataframe tbody tr th:only-of-type {\n",
       "        vertical-align: middle;\n",
       "    }\n",
       "\n",
       "    .dataframe tbody tr th {\n",
       "        vertical-align: top;\n",
       "    }\n",
       "\n",
       "    .dataframe thead th {\n",
       "        text-align: right;\n",
       "    }\n",
       "</style>\n",
       "<table border=\"1\" class=\"dataframe\">\n",
       "  <thead>\n",
       "    <tr style=\"text-align: right;\">\n",
       "      <th></th>\n",
       "      <th></th>\n",
       "      <th>yas</th>\n",
       "      <th>meslek</th>\n",
       "    </tr>\n",
       "    <tr>\n",
       "      <th>film adi</th>\n",
       "      <th>isim</th>\n",
       "      <th></th>\n",
       "      <th></th>\n",
       "    </tr>\n",
       "  </thead>\n",
       "  <tbody>\n",
       "    <tr>\n",
       "      <th rowspan=\"3\" valign=\"top\">Simpson</th>\n",
       "      <th>Homer</th>\n",
       "      <td>40</td>\n",
       "      <td>A</td>\n",
       "    </tr>\n",
       "    <tr>\n",
       "      <th>Bart</th>\n",
       "      <td>30</td>\n",
       "      <td>B</td>\n",
       "    </tr>\n",
       "    <tr>\n",
       "      <th>Marge</th>\n",
       "      <td>30</td>\n",
       "      <td>C</td>\n",
       "    </tr>\n",
       "    <tr>\n",
       "      <th rowspan=\"3\" valign=\"top\">South Park</th>\n",
       "      <th>Cartman</th>\n",
       "      <td>30</td>\n",
       "      <td>D</td>\n",
       "    </tr>\n",
       "    <tr>\n",
       "      <th>Kenny</th>\n",
       "      <td>40</td>\n",
       "      <td>E</td>\n",
       "    </tr>\n",
       "    <tr>\n",
       "      <th>Kyle</th>\n",
       "      <td>3</td>\n",
       "      <td>F</td>\n",
       "    </tr>\n",
       "  </tbody>\n",
       "</table>\n",
       "</div>"
      ],
      "text/plain": [
       "                   yas meslek\n",
       "film adi   isim              \n",
       "Simpson    Homer    40      A\n",
       "           Bart     30      B\n",
       "           Marge    30      C\n",
       "South Park Cartman  30      D\n",
       "           Kenny    40      E\n",
       "           Kyle      3      F"
      ]
     },
     "execution_count": 207,
     "metadata": {},
     "output_type": "execute_result"
    }
   ],
   "source": [
    "benimCizgiFilmDataFrame"
   ]
  },
  {
   "cell_type": "code",
   "execution_count": null,
   "id": "25c20ac6",
   "metadata": {},
   "outputs": [],
   "source": []
  }
 ],
 "metadata": {
  "kernelspec": {
   "display_name": "Python 3 (ipykernel)",
   "language": "python",
   "name": "python3"
  },
  "language_info": {
   "codemirror_mode": {
    "name": "ipython",
    "version": 3
   },
   "file_extension": ".py",
   "mimetype": "text/x-python",
   "name": "python",
   "nbconvert_exporter": "python",
   "pygments_lexer": "ipython3",
   "version": "3.10.12"
  }
 },
 "nbformat": 4,
 "nbformat_minor": 5
}
