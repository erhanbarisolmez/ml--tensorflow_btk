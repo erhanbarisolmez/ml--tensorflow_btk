{
 "cells": [
  {
   "cell_type": "code",
   "execution_count": null,
   "id": "9bfed71a-8b25-4355-bd89-e7034a7f80c2",
   "metadata": {},
   "outputs": [],
   "source": [
    "5*5\n"
   ]
  },
  {
   "cell_type": "code",
   "execution_count": null,
   "id": "48af135d-f506-46d3-a841-e74f4c5f12c9",
   "metadata": {},
   "outputs": [],
   "source": [
    "x = 5"
   ]
  },
  {
   "cell_type": "code",
   "execution_count": null,
   "id": "19b4905f-3e98-4cc0-9877-d8c6c54d65ed",
   "metadata": {},
   "outputs": [],
   "source": [
    "y = 4"
   ]
  },
  {
   "cell_type": "code",
   "execution_count": null,
   "id": "e7cbf7b4-920f-42f0-a3bc-b4638f1f159d",
   "metadata": {},
   "outputs": [],
   "source": [
    "x * y"
   ]
  },
  {
   "cell_type": "code",
   "execution_count": null,
   "id": "10ece7e4-e975-4708-ba81-4fdb91a8314a",
   "metadata": {},
   "outputs": [],
   "source": [
    "x = 6\n"
   ]
  },
  {
   "cell_type": "code",
   "execution_count": null,
   "id": "68568df1-e710-4e9a-a52c-70c151bcf139",
   "metadata": {},
   "outputs": [],
   "source": [
    "x * y"
   ]
  },
  {
   "cell_type": "code",
   "execution_count": null,
   "id": "b6764b6b-1b77-490a-9e72-6623a2865fc7",
   "metadata": {},
   "outputs": [],
   "source": [
    "ilk = 10"
   ]
  },
  {
   "cell_type": "code",
   "execution_count": null,
   "id": "0c76d22f-06d6-4eee-8bc9-8087c11cc748",
   "metadata": {},
   "outputs": [],
   "source": [
    "son = 20"
   ]
  },
  {
   "cell_type": "code",
   "execution_count": null,
   "id": "9117ac30-bcc9-4d0d-8a2c-2f43e7ff0d3e",
   "metadata": {},
   "outputs": [],
   "source": [
    "ilk + son"
   ]
  },
  {
   "cell_type": "code",
   "execution_count": null,
   "id": "18ece4ce-2e11-4283-a0a2-44f5aeaf2148",
   "metadata": {},
   "outputs": [],
   "source": [
    "ilk / son"
   ]
  },
  {
   "cell_type": "code",
   "execution_count": null,
   "id": "eb8edff6",
   "metadata": {},
   "outputs": [],
   "source": [
    "son / ilk"
   ]
  },
  {
   "cell_type": "code",
   "execution_count": null,
   "id": "277ff4f3",
   "metadata": {},
   "outputs": [],
   "source": [
    "bol = son/ilk"
   ]
  },
  {
   "cell_type": "code",
   "execution_count": null,
   "id": "9305c38d",
   "metadata": {},
   "outputs": [],
   "source": [
    "bol"
   ]
  },
  {
   "cell_type": "markdown",
   "id": "d3ff3920",
   "metadata": {},
   "source": [
    "x"
   ]
  },
  {
   "cell_type": "code",
   "execution_count": null,
   "id": "d64496bd",
   "metadata": {},
   "outputs": [],
   "source": [
    "x"
   ]
  },
  {
   "cell_type": "markdown",
   "id": "1219ab32",
   "metadata": {},
   "source": [
    "karesini alma\n",
    "  \n",
    "  "
   ]
  },
  {
   "cell_type": "code",
   "execution_count": null,
   "id": "78fbabde",
   "metadata": {},
   "outputs": [],
   "source": [
    "\n",
    "x ** 2"
   ]
  },
  {
   "cell_type": "code",
   "execution_count": null,
   "id": "eae968e9",
   "metadata": {},
   "outputs": [],
   "source": [
    "# Remainder - Kalanını bulma\n",
    "10 % 2"
   ]
  },
  {
   "cell_type": "code",
   "execution_count": null,
   "id": "8394b317",
   "metadata": {},
   "outputs": [],
   "source": [
    "kullaniciYasi=input(\"Yaşınız\")"
   ]
  },
  {
   "cell_type": "markdown",
   "id": "f2cd17c5",
   "metadata": {},
   "source": []
  },
  {
   "cell_type": "code",
   "execution_count": null,
   "id": "f013c334",
   "metadata": {},
   "outputs": [],
   "source": [
    "kullaniciYasi"
   ]
  },
  {
   "cell_type": "code",
   "execution_count": null,
   "id": "e7a3ea0e",
   "metadata": {},
   "outputs": [],
   "source": [
    "kullaniciYasi * 50"
   ]
  },
  {
   "cell_type": "code",
   "execution_count": null,
   "id": "eb55f509",
   "metadata": {},
   "outputs": [],
   "source": [
    "kullaniciYasi = \"otuz\""
   ]
  },
  {
   "cell_type": "code",
   "execution_count": null,
   "id": "ba8b7eb7",
   "metadata": {},
   "outputs": [],
   "source": [
    "kullaniciYasi"
   ]
  },
  {
   "cell_type": "code",
   "execution_count": null,
   "id": "d4bcb143",
   "metadata": {},
   "outputs": [],
   "source": [
    "kullaniciYasi.count"
   ]
  },
  {
   "cell_type": "code",
   "execution_count": null,
   "id": "524bc293",
   "metadata": {},
   "outputs": [],
   "source": [
    "len(kullaniciYasi)"
   ]
  },
  {
   "cell_type": "code",
   "execution_count": null,
   "id": "a039a2cc",
   "metadata": {},
   "outputs": [],
   "source": [
    "sayi = \"123456\""
   ]
  },
  {
   "cell_type": "code",
   "execution_count": null,
   "id": "b0671b9e",
   "metadata": {},
   "outputs": [],
   "source": [
    "sayi[2:]"
   ]
  },
  {
   "cell_type": "code",
   "execution_count": null,
   "id": "fd667734",
   "metadata": {},
   "outputs": [],
   "source": [
    "test = \"abcdef\""
   ]
  },
  {
   "cell_type": "code",
   "execution_count": null,
   "id": "6c8ca508",
   "metadata": {},
   "outputs": [],
   "source": [
    "test"
   ]
  },
  {
   "cell_type": "code",
   "execution_count": null,
   "id": "a3c140ed",
   "metadata": {},
   "outputs": [],
   "source": [
    "test[:3]"
   ]
  },
  {
   "cell_type": "code",
   "execution_count": null,
   "id": "63b45fa2",
   "metadata": {},
   "outputs": [],
   "source": [
    "test[3:]"
   ]
  },
  {
   "cell_type": "code",
   "execution_count": null,
   "id": "d19ab5db",
   "metadata": {},
   "outputs": [],
   "source": [
    "#  Slicing"
   ]
  },
  {
   "cell_type": "code",
   "execution_count": null,
   "id": "bcf348c1",
   "metadata": {},
   "outputs": [],
   "source": [
    "benimListem = [10,20,30,40,50]"
   ]
  },
  {
   "cell_type": "code",
   "execution_count": null,
   "id": "243ac572",
   "metadata": {},
   "outputs": [],
   "source": [
    "if 10 in benimListem:\n",
    "  print(\"evet\")"
   ]
  },
  {
   "cell_type": "code",
   "execution_count": null,
   "id": "74c4d6e7",
   "metadata": {},
   "outputs": [],
   "source": [
    "benimListem[0] * 5 /3"
   ]
  },
  {
   "cell_type": "code",
   "execution_count": null,
   "id": "e2375d63",
   "metadata": {},
   "outputs": [],
   "source": [
    "\n",
    "for numara in benimListem:\n",
    "  print(numara / 3)"
   ]
  },
  {
   "cell_type": "code",
   "execution_count": null,
   "id": "3e6ed3c3",
   "metadata": {},
   "outputs": [],
   "source": [
    "for num in benimListem:\n",
    "  yeniNum = num - 2 /10\n",
    "  print(yeniNum)"
   ]
  },
  {
   "cell_type": "code",
   "execution_count": null,
   "id": "6cedf640",
   "metadata": {},
   "outputs": [],
   "source": [
    "liste = [1,2,3,4,5,6]\n",
    "for rakam in liste:\n",
    "  if rakam % 2 ==0:\n",
    "    print(rakam)"
   ]
  },
  {
   "cell_type": "code",
   "execution_count": null,
   "id": "a779943a",
   "metadata": {},
   "outputs": [],
   "source": [
    "yeniString = \"asd\""
   ]
  },
  {
   "cell_type": "code",
   "execution_count": null,
   "id": "9cf61228",
   "metadata": {},
   "outputs": [],
   "source": [
    "for harf in yeniString:\n",
    "  print(harf)"
   ]
  },
  {
   "cell_type": "code",
   "execution_count": null,
   "id": "b3d739bc",
   "metadata": {},
   "outputs": [],
   "source": [
    "myTuple= (12,2,3,4,5,6)\n",
    "\n",
    "for eleman in myTuple:\n",
    "  print(eleman -10)"
   ]
  },
  {
   "cell_type": "code",
   "execution_count": null,
   "id": "c60868c6",
   "metadata": {},
   "outputs": [],
   "source": [
    "koordinatList = [(10.2,15.2), (30.2,102.3), (94,186)]\n",
    "type(koordinatList[0])\n",
    "for eleman in koordinatList:\n",
    "  print(eleman)"
   ]
  },
  {
   "cell_type": "code",
   "execution_count": null,
   "id": "f084dda2",
   "metadata": {},
   "outputs": [],
   "source": [
    "for (x,y) in koordinatList:\n",
    "  print(y)"
   ]
  },
  {
   "cell_type": "code",
   "execution_count": null,
   "id": "868ac6a0",
   "metadata": {},
   "outputs": [],
   "source": [
    "for (x,y) in koordinatList:\n",
    "  print(x)"
   ]
  },
  {
   "cell_type": "code",
   "execution_count": null,
   "id": "ae86e704",
   "metadata": {},
   "outputs": [],
   "source": [
    "sozluk = {\"muz\": 150, \"portakal\" : 200, \"elma\":400}\n"
   ]
  },
  {
   "cell_type": "code",
   "execution_count": null,
   "id": "60392018",
   "metadata": {},
   "outputs": [],
   "source": [
    "for (anahtar, deger) in sozluk.items():\n",
    "  print(deger)"
   ]
  },
  {
   "cell_type": "code",
   "execution_count": null,
   "metadata": {},
   "outputs": [],
   "source": [
    "myTuple"
   ]
  },
  {
   "cell_type": "code",
   "execution_count": null,
   "id": "d6c65841",
   "metadata": {},
   "outputs": [],
   "source": [
    "for numara in myTuple:\n",
    "  if numara==5:\n",
    "    break\n",
    "  print(numara)"
   ]
  },
  {
   "cell_type": "code",
   "execution_count": null,
   "id": "22d7c673",
   "metadata": {},
   "outputs": [],
   "source": [
    "for numara in myTuple:\n",
    "  if numara == 12:\n",
    "    continue"
   ]
  },
  {
   "cell_type": "code",
   "execution_count": null,
   "id": "7f129b8f",
   "metadata": {},
   "outputs": [],
   "source": [
    "print(numara)"
   ]
  },
  {
   "cell_type": "code",
   "execution_count": null,
   "id": "773dbc06",
   "metadata": {},
   "outputs": [],
   "source": [
    "x = 0\n",
    "while x<10:\n",
    "  print(x)\n",
    "  x = x+1"
   ]
  },
  {
   "cell_type": "code",
   "execution_count": null,
   "id": "375424ba",
   "metadata": {},
   "outputs": [],
   "source": [
    "benimListem"
   ]
  },
  {
   "cell_type": "code",
   "execution_count": null,
   "id": "5be8ccef",
   "metadata": {},
   "outputs": [],
   "source": [
    "benimListem.pop()"
   ]
  },
  {
   "cell_type": "code",
   "execution_count": null,
   "id": "a85fe03d",
   "metadata": {},
   "outputs": [],
   "source": [
    "benimListem"
   ]
  },
  {
   "cell_type": "code",
   "execution_count": null,
   "id": "ff1e2346",
   "metadata": {},
   "outputs": [],
   "source": [
    "benimListem.append(509)"
   ]
  },
  {
   "cell_type": "code",
   "execution_count": null,
   "id": "04b0c460",
   "metadata": {},
   "outputs": [],
   "source": [
    "benimListem"
   ]
  },
  {
   "cell_type": "code",
   "execution_count": null,
   "id": "f9df88a3",
   "metadata": {},
   "outputs": [],
   "source": [
    "while 30 in benimListem:\n",
    "  print(\"30 listede\")\n",
    "  benimListem.pop()"
   ]
  },
  {
   "cell_type": "code",
   "execution_count": null,
   "id": "fcd2bcb6",
   "metadata": {},
   "outputs": [],
   "source": [
    "benimListem"
   ]
  },
  {
   "cell_type": "code",
   "execution_count": null,
   "id": "7bd3fb6f",
   "metadata": {},
   "outputs": [],
   "source": [
    "list"
   ]
  },
  {
   "cell_type": "code",
   "execution_count": null,
   "id": "bded31b1",
   "metadata": {},
   "outputs": [],
   "source": [
    "list(range(5,21,4))"
   ]
  },
  {
   "cell_type": "code",
   "execution_count": null,
   "id": "4d22e429",
   "metadata": {},
   "outputs": [],
   "source": [
    "index = 0\n",
    "for numara in list(range(5,15)):\n",
    "  print(f\"güncel numara: {numara} güncel index: {index}\")\n",
    "  index +=1\n",
    "print(numara)"
   ]
  },
  {
   "cell_type": "code",
   "execution_count": null,
   "id": "5353e007",
   "metadata": {},
   "outputs": [],
   "source": [
    "for (index, numara) in enumerate(list(range(5,15))):\n",
    "  print(numara)"
   ]
  },
  {
   "cell_type": "code",
   "execution_count": null,
   "id": "b8b503e1",
   "metadata": {},
   "outputs": [],
   "source": [
    "from random import randint\n",
    "randint(10,100)\n"
   ]
  },
  {
   "cell_type": "code",
   "execution_count": null,
   "id": "d294a6bd",
   "metadata": {},
   "outputs": [],
   "source": [
    "newList = list(range(0,10))\n",
    "newList[randint(0,9)]"
   ]
  },
  {
   "cell_type": "code",
   "execution_count": null,
   "id": "92a835d5",
   "metadata": {},
   "outputs": [],
   "source": [
    "newList"
   ]
  },
  {
   "cell_type": "code",
   "execution_count": null,
   "id": "9af6dfae",
   "metadata": {},
   "outputs": [],
   "source": [
    "from random import shuffle\n",
    "shuffle(newList)\n",
    "newList"
   ]
  },
  {
   "cell_type": "code",
   "execution_count": null,
   "id": "b182f2db",
   "metadata": {},
   "outputs": [],
   "source": [
    "yemekListesi = [\"muz\", \"ananaas\", \"elma\"]\n",
    "kaloriListesi = [100,200,300]\n",
    "gunListe = [\"pazartesi\", \"salı\",\"çarşamba\"]\n",
    "zipList=list(zip(yemekListesi, gunListe,kaloriListesi)) #listeleri birleştirmek için kull"
   ]
  },
  {
   "cell_type": "code",
   "execution_count": null,
   "id": "7f2fd7a2",
   "metadata": {},
   "outputs": [],
   "source": [
    "zipList"
   ]
  },
  {
   "cell_type": "code",
   "execution_count": null,
   "id": "506fadc4",
   "metadata": {},
   "outputs": [],
   "source": [
    "for eleman in zipList:\n",
    "  print(type(eleman))"
   ]
  },
  {
   "cell_type": "code",
   "execution_count": null,
   "id": "7a7691f2",
   "metadata": {},
   "outputs": [],
   "source": [
    "zipList"
   ]
  },
  {
   "cell_type": "code",
   "execution_count": null,
   "id": "43e10fe2",
   "metadata": {},
   "outputs": [],
   "source": [
    "for eleman in zipList:\n",
    "  print(type(eleman))"
   ]
  },
  {
   "cell_type": "code",
   "execution_count": null,
   "id": "f8633e39",
   "metadata": {},
   "outputs": [],
   "source": [
    "zipList"
   ]
  },
  {
   "cell_type": "code",
   "execution_count": null,
   "id": "b3d55a45",
   "metadata": {},
   "outputs": [],
   "source": [
    "listeOrnegi = []"
   ]
  },
  {
   "cell_type": "code",
   "execution_count": null,
   "id": "243f2890",
   "metadata": {},
   "outputs": [],
   "source": [
    "string = \"baris\""
   ]
  },
  {
   "cell_type": "code",
   "execution_count": null,
   "id": "a0a08f29",
   "metadata": {},
   "outputs": [],
   "source": [
    "for harf in string:\n",
    "  listeOrnegi.append(harf)"
   ]
  },
  {
   "cell_type": "code",
   "execution_count": null,
   "id": "63dc0fdd",
   "metadata": {},
   "outputs": [],
   "source": [
    "listeOrnegi"
   ]
  },
  {
   "cell_type": "code",
   "execution_count": null,
   "id": "da6a0bda",
   "metadata": {},
   "outputs": [],
   "source": [
    "yeniDeger = \"atıl\"\n",
    "yeniListe = [eleman for eleman in yeniDeger]"
   ]
  },
  {
   "cell_type": "code",
   "execution_count": null,
   "id": "e7dd5cbc",
   "metadata": {},
   "outputs": [],
   "source": [
    "yeniListe"
   ]
  },
  {
   "cell_type": "code",
   "execution_count": null,
   "id": "87392fa8",
   "metadata": {},
   "outputs": [],
   "source": [
    "isim = \"isimsiz\"\n",
    "isim.upper()"
   ]
  },
  {
   "cell_type": "code",
   "execution_count": null,
   "id": "725c3c53",
   "metadata": {},
   "outputs": [],
   "source": [
    "def fonksiyon():\n",
    "  print(\"fonksiyon\")"
   ]
  },
  {
   "cell_type": "code",
   "execution_count": null,
   "id": "5bdc360d",
   "metadata": {},
   "outputs": [],
   "source": [
    "fonksiyon()"
   ]
  },
  {
   "cell_type": "code",
   "execution_count": null,
   "id": "2432da9d",
   "metadata": {},
   "outputs": [],
   "source": [
    "def merhabaDunya(yazdir):\n",
    "  print(\"merhaba\")\n",
    "  print(yazdir)\n",
    "\n",
    "merhabaDunya(\"asd\")"
   ]
  },
  {
   "cell_type": "code",
   "execution_count": null,
   "id": "b8fee210",
   "metadata": {},
   "outputs": [],
   "source": [
    "def merhaba( isim = \"barış\"):\n",
    "  print(\"merhaba\")\n",
    "  print(isim)"
   ]
  },
  {
   "cell_type": "code",
   "execution_count": null,
   "id": "2460a396",
   "metadata": {},
   "outputs": [],
   "source": [
    "merhaba()"
   ]
  },
  {
   "cell_type": "code",
   "execution_count": null,
   "id": "8d840633",
   "metadata": {},
   "outputs": [],
   "source": [
    "merhaba(\"asd\")"
   ]
  },
  {
   "cell_type": "code",
   "execution_count": null,
   "id": "9ed3931d",
   "metadata": {},
   "outputs": [],
   "source": [
    "def toplama(s1,s2):\n",
    "  sonuc = s1+s2\n",
    "  print(sonuc)\n",
    "\n",
    "toplama(10,20)"
   ]
  },
  {
   "cell_type": "code",
   "execution_count": null,
   "id": "d5ce4bd3",
   "metadata": {},
   "outputs": [],
   "source": [
    "def superT(num1, num2,num3):\n",
    "  print(num1+num2+num3)\n",
    "\n",
    "superT(10,20,30)"
   ]
  },
  {
   "cell_type": "code",
   "execution_count": null,
   "id": "60f94f10",
   "metadata": {},
   "outputs": [],
   "source": []
  },
  {
   "cell_type": "code",
   "execution_count": null,
   "id": "780471dd",
   "metadata": {},
   "outputs": [],
   "source": [
    "degisken = toplama(10,20)\n"
   ]
  },
  {
   "cell_type": "code",
   "execution_count": null,
   "id": "233e19f0",
   "metadata": {},
   "outputs": [],
   "source": [
    "type(degisken)"
   ]
  },
  {
   "cell_type": "code",
   "execution_count": null,
   "id": "2fa603d5",
   "metadata": {},
   "outputs": [],
   "source": [
    "def dondurTopla(num1, num2):\n",
    "  return num1+num2"
   ]
  },
  {
   "cell_type": "code",
   "execution_count": null,
   "id": "2098ccc7",
   "metadata": {},
   "outputs": [],
   "source": [
    "yeni = dondurTopla(10,10)"
   ]
  },
  {
   "cell_type": "code",
   "execution_count": null,
   "id": "8fad5cce",
   "metadata": {},
   "outputs": [],
   "source": [
    "yeni"
   ]
  },
  {
   "cell_type": "code",
   "execution_count": null,
   "id": "749dd3ca",
   "metadata": {},
   "outputs": [],
   "source": [
    "type(yeni)"
   ]
  },
  {
   "cell_type": "code",
   "execution_count": null,
   "id": "a87b9360",
   "metadata": {},
   "outputs": [],
   "source": [
    "def kontrolFonksiyon(s):\n",
    "  if s == \"barış\":\n",
    "    print(\"doğru\")\n",
    "  else:\n",
    "    print(\"hata\")"
   ]
  },
  {
   "cell_type": "code",
   "execution_count": null,
   "id": "6e504053",
   "metadata": {},
   "outputs": [],
   "source": [
    "kontrolFonksiyon(\"\")"
   ]
  },
  {
   "cell_type": "code",
   "execution_count": null,
   "id": "212e7d29",
   "metadata": {},
   "outputs": [],
   "source": [
    "def yeniToplam(*args):\n",
    "  return sum(args)\n",
    "yeniToplam(1,2,3,4,5)"
   ]
  },
  {
   "cell_type": "code",
   "execution_count": null,
   "id": "4a20e525",
   "metadata": {},
   "outputs": [],
   "source": [
    "def ornekFonksiyon(**kwargs):\n",
    "  print(kwargs)"
   ]
  },
  {
   "cell_type": "code",
   "execution_count": null,
   "id": "eea7e0f5",
   "metadata": {},
   "outputs": [],
   "source": [
    "type=ornekFonksiyon(muz = 100, elma= 200, ananas = 300)"
   ]
  },
  {
   "cell_type": "code",
   "execution_count": null,
   "id": "5dcac9da",
   "metadata": {},
   "outputs": [],
   "source": [
    "def testKwargs(**kwargs):\n",
    " return(kwargs)\n"
   ]
  },
  {
   "cell_type": "code",
   "execution_count": null,
   "id": "e78a597c",
   "metadata": {},
   "outputs": [],
   "source": [
    "testKwargs(muz=100, elma=200,ananas=300)"
   ]
  },
  {
   "cell_type": "code",
   "execution_count": null,
   "id": "c2a08720",
   "metadata": {},
   "outputs": [],
   "source": [
    "def my_sum(my_integers):\n",
    "  result=0\n",
    "  for x in my_integers:\n",
    "    result +=x\n",
    "  return result\n",
    "\n",
    "list_of_integers = [1,2,3]\n",
    "print(my_sum(list_of_integers))"
   ]
  },
  {
   "cell_type": "code",
   "execution_count": null,
   "id": "d35eb94f",
   "metadata": {},
   "outputs": [],
   "source": [
    "def new_my_sum(*args):\n",
    "  result = 0\n",
    "  for x in args:\n",
    "    result += x\n",
    "  return result\n",
    "\n",
    "new_my_sum(1,2,3,4,5)"
   ]
  },
  {
   "cell_type": "code",
   "execution_count": null,
   "id": "cba9ab12",
   "metadata": {},
   "outputs": [],
   "source": [
    "def kwargsTest(**kwargs):\n",
    "  return(kwargs)"
   ]
  },
  {
   "cell_type": "code",
   "execution_count": null,
   "id": "266d114c",
   "metadata": {},
   "outputs": [],
   "source": [
    "def bolmeIslemi(numara):\n",
    "  return numara / 2\n",
    "\n",
    "bolmeIslemi(20)"
   ]
  },
  {
   "cell_type": "code",
   "execution_count": null,
   "id": "6106e0c4",
   "metadata": {},
   "outputs": [],
   "source": [
    "benimListem"
   ]
  },
  {
   "cell_type": "code",
   "execution_count": null,
   "id": "f9338cd6",
   "metadata": {},
   "outputs": [],
   "source": [
    "benimListem = [1,2,3,4,5,6,7,8,9,10]\n",
    "yeniListe = []\n",
    "for eleman in benimListem:\n",
    "  bolmeIslemi(eleman)\n",
    "  yeniListe.append(bolmeIslemi(eleman))\n",
    "yeniListe"
   ]
  },
  {
   "cell_type": "code",
   "execution_count": null,
   "id": "7c6c2ae2",
   "metadata": {},
   "outputs": [],
   "source": [
    "list(map(bolmeIslemi, benimListem))"
   ]
  },
  {
   "cell_type": "code",
   "execution_count": null,
   "id": "94beede6",
   "metadata": {},
   "outputs": [],
   "source": [
    "def kontrolFonksiyonu(string):\n",
    "  return \"a\" in string"
   ]
  },
  {
   "cell_type": "code",
   "execution_count": null,
   "id": "771c0098",
   "metadata": {},
   "outputs": [],
   "source": [
    "kontrolFonksiyon(\"atıl\")"
   ]
  },
  {
   "cell_type": "code",
   "execution_count": null,
   "id": "f08bf91d",
   "metadata": {},
   "outputs": [],
   "source": [
    "def kontrolFonksiyonu(string):\n",
    "  return \"a\" in string"
   ]
  },
  {
   "cell_type": "code",
   "execution_count": null,
   "id": "6aba5249",
   "metadata": {},
   "outputs": [],
   "source": [
    "kontrolFonksiyonu(\"eqwe\")"
   ]
  },
  {
   "cell_type": "code",
   "execution_count": null,
   "id": "178cc2cb",
   "metadata": {},
   "outputs": [],
   "source": [
    "mylist = [\"apple\", \"banana\", \"cherry\"]"
   ]
  },
  {
   "cell_type": "code",
   "execution_count": null,
   "id": "d7f7c339",
   "metadata": {},
   "outputs": [],
   "source": [
    "list(map(kontrolFonksiyonu, mylist))"
   ]
  },
  {
   "cell_type": "code",
   "execution_count": null,
   "id": "8fc469c0",
   "metadata": {},
   "outputs": [],
   "source": [
    "list(filter(kontrolFonksiyonu,mylist))"
   ]
  },
  {
   "cell_type": "code",
   "execution_count": null,
   "id": "1f1a6b75",
   "metadata": {},
   "outputs": [],
   "source": [
    "carpma = lambda numara : numara *3"
   ]
  },
  {
   "cell_type": "code",
   "execution_count": null,
   "id": "6c1e10ab",
   "metadata": {},
   "outputs": [],
   "source": [
    "carpma(10)"
   ]
  },
  {
   "cell_type": "code",
   "execution_count": null,
   "id": "ac525581",
   "metadata": {},
   "outputs": [],
   "source": [
    "list(map(lambda numara: numara * 4, mylist))"
   ]
  },
  {
   "cell_type": "code",
   "execution_count": null,
   "id": "391dc2be",
   "metadata": {},
   "outputs": [],
   "source": [
    "#scope\n",
    "numara = 20\n",
    "\n",
    "def carpma(rakam):\n",
    "  numara = 10\n",
    "  return numara*rakam\n",
    "carpma(5)"
   ]
  },
  {
   "cell_type": "code",
   "execution_count": null,
   "id": "d5db2676",
   "metadata": {},
   "outputs": [],
   "source": [
    "print(numara)"
   ]
  },
  {
   "cell_type": "code",
   "execution_count": null,
   "id": "7f532177",
   "metadata": {},
   "outputs": [],
   "source": [
    "isim = \"Barış\"\n",
    "\n",
    "def isimFonk():\n",
    "  isim = \"Erhan\"\n",
    "\n",
    "  def icFonk():\n",
    "    isim = \"Ölmez\"\n",
    "    print(isim)\n",
    "\n",
    "  icFonk()\n",
    "\n",
    "isimFonk()"
   ]
  },
  {
   "cell_type": "code",
   "execution_count": null,
   "id": "d5c2a431",
   "metadata": {},
   "outputs": [],
   "source": [
    "print(isim)"
   ]
  },
  {
   "cell_type": "code",
   "execution_count": null,
   "id": "4068e2cd",
   "metadata": {},
   "outputs": [],
   "source": [
    "\n",
    "y  = 10\n",
    "\n",
    "def deneme():\n",
    "  global y\n",
    "  y = 5\n",
    "  print(y)"
   ]
  },
  {
   "cell_type": "code",
   "execution_count": null,
   "id": "177d78bf",
   "metadata": {},
   "outputs": [],
   "source": [
    "y"
   ]
  },
  {
   "cell_type": "code",
   "execution_count": null,
   "id": "924e56f3",
   "metadata": {},
   "outputs": [],
   "source": [
    "def hesapla(**kwargs):\n",
    "  return kwargs"
   ]
  },
  {
   "cell_type": "code",
   "execution_count": null,
   "id": "692d9c14",
   "metadata": {},
   "outputs": [],
   "source": [
    " "
   ]
  },
  {
   "cell_type": "code",
   "execution_count": 178,
   "id": "e20a867d",
   "metadata": {},
   "outputs": [],
   "source": [
    "def hesapla(a, b, islem):\n",
    "  if islem == \"+\":\n",
    "    return (str(a)+ \" + \"+ str(b) + \" = \" + str(a+b))\n",
    "  if islem == \"-\":\n",
    "    return (str(a) + \" - \" + str(b) + \" = \" + str(a-b))\n",
    "  if islem == \"*\":\n",
    "    return (str(a) + \" * \" + str(b) + \" = \" + str(a*b))\n",
    "  if islem == \"/\":\n",
    "    return (str(a)+ \" / \"+ str(b) + \" = \" + str(a/b))\n",
    "  \n",
    "  a = int(input(\"s1 : \"))\n",
    "  b = int(input(\"s2 :\"))\n",
    "  islem = input(\"+-*/ gir: \")\n",
    "  hesapla(a,b, islem)\n"
   ]
  },
  {
   "cell_type": "code",
   "execution_count": 179,
   "id": "536d4ba0",
   "metadata": {},
   "outputs": [
    {
     "data": {
      "text/plain": [
       "10"
      ]
     },
     "execution_count": 179,
     "metadata": {},
     "output_type": "execute_result"
    }
   ],
   "source": [
    "10\n",
    "\n"
   ]
  },
  {
   "cell_type": "code",
   "execution_count": 180,
   "id": "3b3d26ea",
   "metadata": {},
   "outputs": [
    {
     "data": {
      "text/plain": [
       "10230123"
      ]
     },
     "execution_count": 180,
     "metadata": {},
     "output_type": "execute_result"
    }
   ],
   "source": [
    "10230123"
   ]
  },
  {
   "cell_type": "code",
   "execution_count": 181,
   "id": "5e8bad8c",
   "metadata": {},
   "outputs": [],
   "source": [
    "def hesapla(a, b, islem):\n",
    "  if islem == \"+\":\n",
    "    return (str(a)+ \" + \"+ str(b) + \" = \" + str(a+b))\n",
    "  if islem == \"-\":\n",
    "    return (str(a) + \" - \" + str(b) + \" = \" + str(a-b))\n",
    "  if islem == \"*\":\n",
    "    return (str(a) + \" * \" + str(b) + \" = \" + str(a*b))\n",
    "  if islem == \"/\":\n",
    "    return (str(a)+ \" / \"+ str(b) + \" = \" + str(a/b))\n",
    "  \n",
    "  a = int(input(\"s1 : \"))\n",
    "  b = int(input(\"s2 :\"))\n",
    "  islem = input(\"+-*/ gir: \")\n",
    "  hesapla(a,b , islem)"
   ]
  },
  {
   "cell_type": "code",
   "execution_count": 184,
   "id": "1b48d51d",
   "metadata": {},
   "outputs": [],
   "source": [
    "class SuperKahraman():\n",
    "  def __init__(self, isimInput, yasInput, meslekInput):\n",
    "    print(\"init çağrıldı\")\n",
    "    self.isim = isimInput\n",
    "    self.yas = yasInput\n",
    "    self.meslek = meslekInput\n",
    "\n"
   ]
  },
  {
   "cell_type": "code",
   "execution_count": 225,
   "id": "96528d7b",
   "metadata": {},
   "outputs": [
    {
     "name": "stdout",
     "output_type": "stream",
     "text": [
      "init oluşturuldu\n",
      " ben süper kahramanım ve mesleğim: Çoban\n"
     ]
    }
   ],
   "source": [
    "class SuperKahraman():\n",
    "\n",
    "\n",
    "    def __init__(self, isim, yas, meslek):\n",
    "        print(\"init oluşturuldu\")\n",
    "        self.isim = isim\n",
    "        self.yas = yas\n",
    "        self.meslek = meslek\n",
    "\n",
    "        \n",
    "    def ornekMethod(self):\n",
    "        print(f\" ben süper kahramanım ve mesleğim: {self.meslek}\" )\n",
    "\n",
    "superman = SuperKahraman(\"Superman\",30,\"Çoban\")\n",
    "\n",
    "superman.isim = \"Clark kent\"\n",
    "superman.isim\n",
    "superman.ornekMethod()"
   ]
  },
  {
   "cell_type": "code",
   "execution_count": 236,
   "id": "08220b8f",
   "metadata": {},
   "outputs": [
    {
     "data": {
      "text/plain": [
       "21"
      ]
     },
     "execution_count": 236,
     "metadata": {},
     "output_type": "execute_result"
    }
   ],
   "source": [
    "class Kopek():\n",
    "  yilCarpani = 7\n",
    "  def __init__(self, yas=99):\n",
    "    self.yas = yas\n",
    "\n",
    "  def insanYasiniHesapla(self, yas=10):\n",
    "    return self.yas * self.yilCarpani\n",
    "\n",
    "kopek = Kopek(3)\n",
    "kopek.yas\n",
    "\n",
    "kopek.insanYasiniHesapla()"
   ]
  },
  {
   "cell_type": "code",
   "execution_count": 238,
   "id": "4408fafa",
   "metadata": {},
   "outputs": [],
   "source": [
    "# Inheritance (KALITIM MİRAS)"
   ]
  },
  {
   "cell_type": "code",
   "execution_count": 244,
   "id": "e46a2e33",
   "metadata": {},
   "outputs": [
    {
     "name": "stdout",
     "output_type": "stream",
     "text": [
      "hayvan sınıfı init çağırıldı\n",
      "Hayvan sınıfından method1 çağırıldı.**\n",
      "Hayvan sınıfından method2 çağırıldı**\n",
      "hayvan sınıfı init çağırıldı\n",
      "kedi sınıfı init çağırıldı.\n",
      "Hayvan sınıfından method1 çağırıldı.**\n",
      "Hayvan sınıfından method2 çağırıldı**\n",
      "miyavla\n"
     ]
    }
   ],
   "source": [
    "class Hayvan():\n",
    "  def __init__(self):\n",
    "    print(\"hayvan sınıfı init çağırıldı\")\n",
    "\n",
    "\n",
    "  def method1(self):\n",
    "    print(\"Hayvan sınıfından method1 çağırıldı.**\")\n",
    "  \n",
    "  def method2(self):\n",
    "    print(\"Hayvan sınıfından method2 çağırıldı**\")\n",
    "\n",
    "  def method3(self):\n",
    "    print(\"miyavla\")\n",
    "\n",
    "hayvanOlustur = Hayvan()\n",
    "\n",
    "hayvanOlustur.method1()\n",
    "hayvanOlustur.method2()\n",
    "\n",
    "class Kedi(Hayvan):\n",
    "  def __init__(self):\n",
    "    Hayvan.__init__(self)\n",
    "    print(\"kedi sınıfı init çağırıldı.\")\n",
    "\n",
    "kediOlustur = Kedi()\n",
    "kediOlustur.method1()\n",
    "kediOlustur.method2()\n",
    "kediOlustur.method3()"
   ]
  },
  {
   "cell_type": "code",
   "execution_count": null,
   "id": "5868936e",
   "metadata": {},
   "outputs": [],
   "source": []
  },
  {
   "cell_type": "code",
   "execution_count": null,
   "id": "496368f7",
   "metadata": {},
   "outputs": [],
   "source": []
  }
 ],
 "metadata": {
  "kernelspec": {
   "display_name": "Python 3 (ipykernel)",
   "language": "python",
   "name": "python3"
  },
  "language_info": {
   "codemirror_mode": {
    "name": "ipython",
    "version": 3
   },
   "file_extension": ".py",
   "mimetype": "text/x-python",
   "name": "python",
   "nbconvert_exporter": "python",
   "pygments_lexer": "ipython3",
   "version": "3.12.2"
  }
 },
 "nbformat": 4,
 "nbformat_minor": 5
}
